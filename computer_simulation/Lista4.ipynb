{
 "cells": [
  {
   "cell_type": "markdown",
   "metadata": {},
   "source": [
    "# Lista 4"
   ]
  },
  {
   "cell_type": "markdown",
   "metadata": {},
   "source": [
    "## Kod"
   ]
  },
  {
   "cell_type": "markdown",
   "metadata": {},
   "source": [
    "Importowanie bibliotek"
   ]
  },
  {
   "cell_type": "code",
   "execution_count": 1,
   "metadata": {},
   "outputs": [],
   "source": [
    "import time\n",
    "import matplotlib.pyplot as plt\n",
    "import numpy as np\n",
    "import scipy.stats as stats\n",
    "from PIL import Image\n",
    "from IPython.display import display\n",
    "import math\n",
    "from scipy.stats import t as tp\n",
    "from scipy.stats import ttest_ind,shapiro,wilcoxon,mannwhitneyu\n"
   ]
  },
  {
   "cell_type": "markdown",
   "metadata": {},
   "source": [
    "Ciągi z listy 2 :"
   ]
  },
  {
   "cell_type": "code",
   "execution_count": 523,
   "metadata": {},
   "outputs": [],
   "source": [
    "a2 = np.array([-0.14335748,  0.22153917,  0.6655269 ,  0.93849878,  0.24881592,\n",
    "        0.65024363, -0.22429572,  0.29916765,  0.75219736, -0.1400177 ,\n",
    "       -0.80039457, -0.22213638,  0.64621912,  0.80456221,  0.09150028])"
   ]
  },
  {
   "cell_type": "code",
   "execution_count": 524,
   "metadata": {},
   "outputs": [],
   "source": [
    "b2 = np.array([-0.02139339, -0.29600124, -0.16515948, -0.99162205,  0.86609319,\n",
    "       -0.78645936,  0.11165304, -0.57071602,  0.10879712, -0.10327371,\n",
    "       -0.09394961, -0.21043858,  0.85068842,  0.5974826 ,  0.77859015,\n",
    "       -0.72715453,  0.68490101, -0.69907208,  0.05509794, -0.45777134,\n",
    "        0.88420884,  0.74485051,  0.20055178,  0.2172253 , -0.36581223,\n",
    "        0.76725974,  0.90008233, -0.47383075,  0.98139464,  0.72004756,\n",
    "       -0.63224424,  0.77876619,  0.00856402,  0.82061967, -0.23630998,\n",
    "        0.12767825, -0.38001066,  0.21689284,  0.9949882 , -0.78752073,\n",
    "        0.33523342,  0.67276141,  0.39596613, -0.44150871, -0.12626557,\n",
    "       -0.60272981,  0.23043401,  0.76459746,  0.30725715,  0.69476304,\n",
    "        0.87256022,  0.34944905, -0.24876883,  0.14773026,  0.13764488,\n",
    "        0.44442816,  0.22755349,  0.610289  , -0.60116585, -0.31829246,\n",
    "        0.66018682,  0.04476109, -0.26770174, -0.34849482, -0.54956602,\n",
    "        0.41453082, -0.69958001,  0.45398798, -0.03121046, -0.27281466,\n",
    "        0.9568861 ,  0.01355213, -0.9846926 , -0.63345635,  0.18865969,\n",
    "        0.57321904,  0.21574413,  0.96892864,  0.75248657, -0.5541246 ,\n",
    "        0.38419444,  0.54583617,  0.87579742,  0.85980033,  0.03378714,\n",
    "        0.28630972,  0.61115039,  0.13972338,  0.75709469,  0.85313212,\n",
    "       -0.88968669,  0.57826619, -0.66193542,  0.27018371,  0.48479703,\n",
    "        0.85563821, -0.26307086,  0.17228108, -0.05928299, -0.97857241,\n",
    "       -0.69536594, -0.83084138, -0.2285595 ,  0.63203488,  0.48190841,\n",
    "       -0.0741408 , -0.69483937, -0.51579695,  0.33940003,  0.79231227,\n",
    "       -0.24078088,  0.82528838, -0.08217444, -0.51709152,  0.18219216,\n",
    "        0.09523219,  0.4765674 , -0.18263547,  0.20736396, -0.37424403])"
   ]
  },
  {
   "cell_type": "markdown",
   "metadata": {},
   "source": [
    "Generator liczb pseudolosowych"
   ]
  },
  {
   "cell_type": "code",
   "execution_count": 525,
   "metadata": {},
   "outputs": [],
   "source": [
    "class generator():\n",
    "    def __init__(self,a=1664525,c=1013904223,m=2*32,seed=None):\n",
    "        self.a = a\n",
    "        self.c = c\n",
    "        self.m = m\n",
    "        if seed == None:\n",
    "            seed = time.time()\n",
    "        self.current = seed\n",
    "        \n",
    "    \n",
    "    def random(self):\n",
    "        self.current = (self.a*self.current + self.c)%self.m\n",
    "        return 2*(self.current/self.m) - 1\n",
    "        \n",
    "        "
   ]
  },
  {
   "cell_type": "markdown",
   "metadata": {},
   "source": [
    "Funkcja do generowania ciągów z generatora"
   ]
  },
  {
   "cell_type": "code",
   "execution_count": 526,
   "metadata": {},
   "outputs": [],
   "source": [
    "def generator_ciagow(n):\n",
    "    gen = generator()\n",
    "    result = []\n",
    "    for i in range(n):\n",
    "        result.append(gen.random())\n",
    "    return result"
   ]
  },
  {
   "cell_type": "markdown",
   "metadata": {},
   "source": [
    "Funkcja do obliczania statystyk opisowych"
   ]
  },
  {
   "cell_type": "code",
   "execution_count": 527,
   "metadata": {},
   "outputs": [],
   "source": [
    "def statystyki(data):\n",
    "    mean = np.mean(data)\n",
    "    median = np.median(data)\n",
    "    mode = stats.mode(data)\n",
    "    std = np.std(data)\n",
    "    var = np.var(data)\n",
    "    skew = stats.skew(data)\n",
    "    kurtoza = stats.kurtosis(data,fisher=True)\n",
    "    Q1, Q2, Q3 = np.percentile(data, [25, 50, 75])\n",
    "    \n",
    "\n",
    "    result = {\n",
    "        'mean':mean,\n",
    "        'median':median,\n",
    "        'mode':mode,\n",
    "        'std':std,\n",
    "        'var':var,\n",
    "        'skosnosc':skew,\n",
    "        'kurtoza':kurtoza,\n",
    "        'kwartyl_25': Q1,\n",
    "        'kwartyl_50': Q2,\n",
    "        'kwartyl_75': Q3\n",
    "    }\n",
    "    return result"
   ]
  },
  {
   "cell_type": "markdown",
   "metadata": {},
   "source": [
    "Funkcja do tworzenia histogramów"
   ]
  },
  {
   "cell_type": "code",
   "execution_count": 528,
   "metadata": {},
   "outputs": [],
   "source": [
    "def histogram(a,b):\n",
    "\n",
    "    x_values = np.linspace(-1, 1, 1000)\n",
    "    uniform_density = np.ones_like(x_values) * 0.5  \n",
    "\n",
    "    fig, axes = plt.subplots(1, 2, figsize=(14, 6))\n",
    "\n",
    "    axes[0].hist(a, bins=np.linspace(-1, 1, 9), density=True, color='skyblue', edgecolor='black')\n",
    "    axes[0].plot(x_values, uniform_density, color='red', linestyle='--', label='Rozkład U(-1, 1)')\n",
    "    axes[0].set_title(f'Histogram dla próby o długości {len(a)}')\n",
    "    axes[0].set_xlabel('Wartości')\n",
    "    axes[0].set_ylabel('Gęstość')\n",
    "    axes[0].legend()\n",
    "\n",
    "    axes[1].hist(b, bins=np.linspace(-1, 1, 9), alpha = 0.5,density=True, color='orange', edgecolor='black')\n",
    "    axes[1].plot(x_values, uniform_density, color='red', linestyle='--', label='Rozkład U(-1, 1)')\n",
    "    axes[1].set_title(f'Histogram dla próby o długości {len(b)}')\n",
    "    axes[1].set_xlabel('Wartości')\n",
    "    axes[1].set_ylabel('Gęstość')\n",
    "    axes[1].legend()\n",
    "\n",
    "    plt.tight_layout()\n",
    "    plt.show()"
   ]
  },
  {
   "cell_type": "markdown",
   "metadata": {},
   "source": [
    "Funkcja do obliczania statystyki t - studenta i wartości p"
   ]
  },
  {
   "cell_type": "code",
   "execution_count": 529,
   "metadata": {},
   "outputs": [],
   "source": [
    "def t_value(n,std,mean,h_value):\n",
    "    t = (mean - h_value)/(std/math.sqrt(n))\n",
    "    p = 2 * tp.sf(abs(t), n-1)\n",
    "    return t,p"
   ]
  },
  {
   "cell_type": "markdown",
   "metadata": {},
   "source": [
    "## Generowanie ciągów"
   ]
  },
  {
   "cell_type": "code",
   "execution_count": 530,
   "metadata": {},
   "outputs": [],
   "source": [
    "a = generator_ciagow(15)\n",
    "b = generator_ciagow(120)"
   ]
  },
  {
   "cell_type": "markdown",
   "metadata": {},
   "source": [
    "## Statystyki ciągów "
   ]
  },
  {
   "cell_type": "markdown",
   "metadata": {},
   "source": [
    "### Statystyki ciągów a i b"
   ]
  },
  {
   "cell_type": "code",
   "execution_count": 531,
   "metadata": {},
   "outputs": [
    {
     "data": {
      "text/plain": [
       "{'mean': np.float64(0.029166666666666667),\n",
       " 'median': np.float64(-0.09375),\n",
       " 'mode': ModeResult(mode=np.float64(-0.5625), count=np.int64(1)),\n",
       " 'std': np.float64(0.4546442443151446),\n",
       " 'var': np.float64(0.2067013888888889),\n",
       " 'skosnosc': np.float64(0.41120647464765975),\n",
       " 'kurtoza': np.float64(-1.1561865929793462),\n",
       " 'kwartyl_25': np.float64(-0.3125),\n",
       " 'kwartyl_50': np.float64(-0.09375),\n",
       " 'kwartyl_75': np.float64(0.421875)}"
      ]
     },
     "execution_count": 531,
     "metadata": {},
     "output_type": "execute_result"
    }
   ],
   "source": [
    "statystyki(a)"
   ]
  },
  {
   "cell_type": "code",
   "execution_count": 532,
   "metadata": {},
   "outputs": [
    {
     "data": {
      "text/plain": [
       "{'mean': np.float64(0.0010416666666666667),\n",
       " 'median': np.float64(0.0),\n",
       " 'mode': ModeResult(mode=np.float64(-1.0), count=np.int64(2)),\n",
       " 'std': np.float64(0.575909795032077),\n",
       " 'var': np.float64(0.3316720920138889),\n",
       " 'skosnosc': np.float64(-0.04956445773131075),\n",
       " 'kurtoza': np.float64(-1.1736554103434973),\n",
       " 'kwartyl_25': np.float64(-0.4765625),\n",
       " 'kwartyl_50': np.float64(0.0),\n",
       " 'kwartyl_75': np.float64(0.5)}"
      ]
     },
     "execution_count": 532,
     "metadata": {},
     "output_type": "execute_result"
    }
   ],
   "source": [
    "statystyki(b)"
   ]
  },
  {
   "cell_type": "markdown",
   "metadata": {},
   "source": [
    "### Statystyki z listy drugiej"
   ]
  },
  {
   "cell_type": "markdown",
   "metadata": {},
   "source": [
    "**Dla ciągu 15 elementowego :**   \n",
    "{'mean': np.float64(-0.06340092341992369),  \n",
    " 'median': np.float64(-0.03974340146563837),  \n",
    " 'mode': 'Brak dominanty',  \n",
    " 'rozstep': np.float64(1.654284170832844),  \n",
    " 'std': np.float64(0.5490721676183499),  \n",
    " 'var': np.float64(0.30148024525311334),  \n",
    " 'skosnosc': np.float64(-0.06791129293177803),  \n",
    " 'kurtoza': np.float64(-1.3635318979420603),  \n",
    " 'kwartyl_25': np.float64(-0.6539642268346793),  \n",
    " 'kwartyl_50': np.float64(-0.03974340146563837),  \n",
    " 'kwartyl_75': np.float64(0.396362725400099)}  "
   ]
  },
  {
   "cell_type": "markdown",
   "metadata": {},
   "source": [
    "**Dla ciągu 120 elementowego:**  \n",
    "{'mean': np.float64(-0.006687343244388398),  \n",
    " 'median': np.float64(-0.06566349950834083),  \n",
    " 'mode': 'Brak dominanty',  \n",
    " 'rozstep': np.float64(1.9855197437008485),  \n",
    " 'std': np.float64(0.5594695216358302),  \n",
    " 'var': np.float64(0.3130061456394247),  \n",
    " 'skosnosc': np.float64(0.12728852900790955),  \n",
    " 'kurtoza': np.float64(-1.240564061267722),  \n",
    " 'kwartyl_25': np.float64(-0.5085365753284435),  \n",
    " 'kwartyl_50': np.float64(-0.06566349950834083),  \n",
    " 'kwartyl_75': np.float64(0.4962498113927776)}  "
   ]
  },
  {
   "cell_type": "markdown",
   "metadata": {},
   "source": [
    "## Histogramy"
   ]
  },
  {
   "cell_type": "code",
   "execution_count": 533,
   "metadata": {},
   "outputs": [
    {
     "data": {
      "image/png": "[encoded data removed]",
      "text/plain": [
       "<Figure size 1400x600 with 2 Axes>"
      ]
     },
     "metadata": {},
     "output_type": "display_data"
    }
   ],
   "source": [
    "histogram(a,b)"
   ]
  },
  {
   "cell_type": "markdown",
   "metadata": {},
   "source": [
    "Histogramy z Listy 2 :"
   ]
  },
  {
   "cell_type": "code",
   "execution_count": 534,
   "metadata": {},
   "outputs": [
    {
     "data": {
      "image/png": "[encoded data removed]",
      "text/plain": [
       "<PIL.PngImagePlugin.PngImageFile image mode=RGBA size=1389x590>"
      ]
     },
     "metadata": {},
     "output_type": "display_data"
    }
   ],
   "source": [
    "img = Image.open('Histograms.png')\n",
    "display(img)"
   ]
  },
  {
   "cell_type": "markdown",
   "metadata": {},
   "source": [
    "## Testy Statystyczne"
   ]
  },
  {
   "cell_type": "markdown",
   "metadata": {},
   "source": [
    "### Test : Próby mają rozkład normalny"
   ]
  },
  {
   "cell_type": "markdown",
   "metadata": {},
   "source": [
    "#### Próby z 15 elementaowe"
   ]
  },
  {
   "cell_type": "markdown",
   "metadata": {},
   "source": [
    "Wyznaczanie statystyki tesowej i wartości p :"
   ]
  },
  {
   "cell_type": "markdown",
   "metadata": {},
   "source": [
    "Próba 15 elementowa z tej listy :"
   ]
  },
  {
   "cell_type": "code",
   "execution_count": 535,
   "metadata": {},
   "outputs": [],
   "source": [
    "stat15_1, p_value15_1 = shapiro(a)"
   ]
  },
  {
   "cell_type": "code",
   "execution_count": 536,
   "metadata": {},
   "outputs": [
    {
     "name": "stdout",
     "output_type": "stream",
     "text": [
      "Statystyka testowa = 0.9283635064991577, wartość p = 0.2578975242464523\n"
     ]
    }
   ],
   "source": [
    "print(f\"Statystyka testowa = {stat15_1}, wartość p = {p_value15_1}\")"
   ]
  },
  {
   "cell_type": "markdown",
   "metadata": {},
   "source": [
    "Próba 15 elementowa z listy 2 :"
   ]
  },
  {
   "cell_type": "code",
   "execution_count": 537,
   "metadata": {},
   "outputs": [],
   "source": [
    "stat15_2, p_value15_2 = shapiro(a2)"
   ]
  },
  {
   "cell_type": "code",
   "execution_count": 538,
   "metadata": {},
   "outputs": [
    {
     "name": "stdout",
     "output_type": "stream",
     "text": [
      "Statystyka testowa = 0.939485987782873, wartość p = 0.3759508805388423\n"
     ]
    }
   ],
   "source": [
    "print(f\"Statystyka testowa = {stat15_2}, wartość p = {p_value15_2}\")"
   ]
  },
  {
   "cell_type": "markdown",
   "metadata": {},
   "source": [
    "Wyniki :"
   ]
  },
  {
   "cell_type": "code",
   "execution_count": 539,
   "metadata": {},
   "outputs": [
    {
     "name": "stdout",
     "output_type": "stream",
     "text": [
      "Próba 15 elementowa ma rozkład normalny\n"
     ]
    }
   ],
   "source": [
    "if p_value15_1 < 0.05:\n",
    "    print(\"Próba 15 elementowa nie ma rozkładu normalnego\")\n",
    "else:\n",
    "    print(\"Próba 15 elementowa ma rozkład normalny\")"
   ]
  },
  {
   "cell_type": "code",
   "execution_count": 540,
   "metadata": {},
   "outputs": [
    {
     "name": "stdout",
     "output_type": "stream",
     "text": [
      "Próba 15 elementowa z listy 2 ma rozkład normalny\n"
     ]
    }
   ],
   "source": [
    "if p_value15_2 < 0.05:\n",
    "    print(\"Próba 15 elementowa z listy 2 nie ma rozkładu normalnego\")\n",
    "else:\n",
    "    print(\"Próba 15 elementowa z listy 2 ma rozkład normalny\")"
   ]
  },
  {
   "cell_type": "markdown",
   "metadata": {},
   "source": [
    "#### Próby 120 elementowe"
   ]
  },
  {
   "cell_type": "markdown",
   "metadata": {},
   "source": [
    "Wyznaczanie statystyki testowej i wartości p :"
   ]
  },
  {
   "cell_type": "markdown",
   "metadata": {},
   "source": [
    "Dla próby z tej listy :"
   ]
  },
  {
   "cell_type": "code",
   "execution_count": 541,
   "metadata": {},
   "outputs": [],
   "source": [
    "stat120_1, p_value120_1 = shapiro(b)"
   ]
  },
  {
   "cell_type": "code",
   "execution_count": 542,
   "metadata": {},
   "outputs": [
    {
     "name": "stdout",
     "output_type": "stream",
     "text": [
      "Statystyka testowa = 0.9557961916311608, wartość p = 0.0005901536062998239\n"
     ]
    }
   ],
   "source": [
    "print(f\"Statystyka testowa = {stat120_1}, wartość p = {p_value120_1}\")"
   ]
  },
  {
   "cell_type": "markdown",
   "metadata": {},
   "source": [
    "Dla próby z listy 2 : "
   ]
  },
  {
   "cell_type": "code",
   "execution_count": 543,
   "metadata": {},
   "outputs": [],
   "source": [
    "stat120_2, p_value120_2 = shapiro(b2)"
   ]
  },
  {
   "cell_type": "code",
   "execution_count": 544,
   "metadata": {},
   "outputs": [
    {
     "name": "stdout",
     "output_type": "stream",
     "text": [
      "Statystyka testowa = 0.9576396654213976, wartość p = 0.0008215125173178324\n"
     ]
    }
   ],
   "source": [
    "print(f\"Statystyka testowa = {stat120_2}, wartość p = {p_value120_2}\")"
   ]
  },
  {
   "cell_type": "markdown",
   "metadata": {},
   "source": [
    "Wyniki :"
   ]
  },
  {
   "cell_type": "code",
   "execution_count": 545,
   "metadata": {},
   "outputs": [
    {
     "name": "stdout",
     "output_type": "stream",
     "text": [
      "Próba 120 elementowa nie ma rozkładu normalnego\n"
     ]
    }
   ],
   "source": [
    "if p_value120_1 < 0.05:\n",
    "    print(\"Próba 120 elementowa nie ma rozkładu normalnego\")\n",
    "else:\n",
    "    print(\"Próba 120 elementowa ma rozkład normalny\")"
   ]
  },
  {
   "cell_type": "code",
   "execution_count": 546,
   "metadata": {},
   "outputs": [
    {
     "name": "stdout",
     "output_type": "stream",
     "text": [
      "Próba 120 elementowa z listy 2 nie ma rozkładu normalnego\n"
     ]
    }
   ],
   "source": [
    "if p_value120_2 < 0.05:\n",
    "    print(\"Próba 120 elementowa z listy 2 nie ma rozkładu normalnego\")\n",
    "else:\n",
    "    print(\"Próba 120 elementowa z listy 2 ma rozkład normalny\")"
   ]
  },
  {
   "cell_type": "markdown",
   "metadata": {},
   "source": [
    "### Średnie prób z tej listy oraz listy 2 są równe"
   ]
  },
  {
   "cell_type": "markdown",
   "metadata": {},
   "source": [
    "#### Próby 15 elementowe "
   ]
  },
  {
   "cell_type": "markdown",
   "metadata": {},
   "source": [
    "Test Shapiro wilka nie odrzucił hipotezy, że na poziomie istotności 0.05 obydwie próby 15 elementowe z dwóch list posiadają rozkład normalny.   \n",
    "Więc można zrobić test studenta dla prób niezależnych : \n"
   ]
  },
  {
   "cell_type": "markdown",
   "metadata": {},
   "source": [
    "H0 : Średnie dwóch prób są równe  \n",
    "HA : Średnie dwóch prób nie są równe "
   ]
  },
  {
   "cell_type": "markdown",
   "metadata": {},
   "source": [
    "Poziom istotności : 0.05"
   ]
  },
  {
   "cell_type": "markdown",
   "metadata": {},
   "source": [
    "Obliczanie statystyki testowej i wartości p : "
   ]
  },
  {
   "cell_type": "code",
   "execution_count": 547,
   "metadata": {},
   "outputs": [],
   "source": [
    "stat15_srednie, p_srednie = ttest_ind(a,a2)"
   ]
  },
  {
   "cell_type": "code",
   "execution_count": 548,
   "metadata": {},
   "outputs": [
    {
     "name": "stdout",
     "output_type": "stream",
     "text": [
      "Statystyka testowa = -1.2686210993387883, wartość p = 0.21502222350996053\n"
     ]
    }
   ],
   "source": [
    "print(f\"Statystyka testowa = {stat15_srednie}, wartość p = {p_srednie}\")"
   ]
  },
  {
   "cell_type": "markdown",
   "metadata": {},
   "source": [
    "Wyniki :"
   ]
  },
  {
   "cell_type": "code",
   "execution_count": 549,
   "metadata": {},
   "outputs": [
    {
     "name": "stdout",
     "output_type": "stream",
     "text": [
      "Nie ma podstaw do odrzucenia hipotezy zerowej, średnie prób 15 elementowych z tej listy i listy 2 są równe\n"
     ]
    }
   ],
   "source": [
    "if p_srednie < 0.05:\n",
    "    print(\"Odrzucamy hipoteze zerową, średnie prób 15 elementowych z tej listy i listy 2 nie są równe\")\n",
    "else: \n",
    "    print(\"Nie ma podstaw do odrzucenia hipotezy zerowej, średnie prób 15 elementowych z tej listy i listy 2 są równe\")"
   ]
  },
  {
   "cell_type": "markdown",
   "metadata": {},
   "source": [
    "#### Próby 120 elementowe"
   ]
  },
  {
   "cell_type": "markdown",
   "metadata": {},
   "source": [
    "Test Shapiro na poziomie istotności 0.05, odrzucił hipotezę, że obie próby 120 elementowe mają rozkład normalny.  \n",
    "Więc wykonuję test nieparametryczny Manna - Whitneya dla prób niezależnych: "
   ]
  },
  {
   "cell_type": "markdown",
   "metadata": {},
   "source": [
    "Obliczanie statystyki testowej i wartości p :"
   ]
  },
  {
   "cell_type": "code",
   "execution_count": 550,
   "metadata": {},
   "outputs": [],
   "source": [
    "stat120_srednie, p_srednie_120 = mannwhitneyu(b, b2, alternative='two-sided')"
   ]
  },
  {
   "cell_type": "code",
   "execution_count": 551,
   "metadata": {},
   "outputs": [
    {
     "name": "stdout",
     "output_type": "stream",
     "text": [
      "Statystyka testowa = 6401.0, wartość p = 0.1375849487008482\n"
     ]
    }
   ],
   "source": [
    "print(f\"Statystyka testowa = {stat120_srednie}, wartość p = {p_srednie_120}\")"
   ]
  },
  {
   "cell_type": "markdown",
   "metadata": {},
   "source": [
    "Wyniki :"
   ]
  },
  {
   "cell_type": "code",
   "execution_count": 552,
   "metadata": {},
   "outputs": [
    {
     "name": "stdout",
     "output_type": "stream",
     "text": [
      "Nie ma podstaw do odrzucenia hipotezy zerowej, średnie prób 120 elementowych z tej listy i listy 2 są równe\n"
     ]
    }
   ],
   "source": [
    "if p_srednie_120 < 0.05:\n",
    "    print(\"Odrzucamy hipoteze zerową, średnie prób 120 elementowych z tej listy i listy 2 nie są równe\")\n",
    "else: \n",
    "    print(\"Nie ma podstaw do odrzucenia hipotezy zerowej, średnie prób 120 elementowych z tej listy i listy 2 są równe\")"
   ]
  },
  {
   "cell_type": "markdown",
   "metadata": {},
   "source": [
    "### Test : Średnie z prób równe 0"
   ]
  },
  {
   "cell_type": "markdown",
   "metadata": {},
   "source": [
    "H0 - Średnia z próby równa 0  \n",
    "HA - Średnia z próby różna od 0"
   ]
  },
  {
   "cell_type": "markdown",
   "metadata": {},
   "source": [
    "#### Próba 15 elementowa z tej listy"
   ]
  },
  {
   "cell_type": "markdown",
   "metadata": {},
   "source": [
    "Test shapiro wilka nie wykluczył hipotezy, że próba 15 elementowa ma rozkład normalny.  \n",
    "Więc wykonuję test t studenta dla jednej próby.  \n",
    "Pozniom istotności : 0.05"
   ]
  },
  {
   "cell_type": "markdown",
   "metadata": {},
   "source": [
    "Wynik statystyki testowej (liczba po lewej) rozkładu t-studenta dla ciągu 15 elementowego i wartości p (liczna po prawej)"
   ]
  },
  {
   "cell_type": "code",
   "execution_count": 553,
   "metadata": {},
   "outputs": [
    {
     "data": {
      "text/plain": [
       "(np.float64(0.24846243117966627), np.float64(0.8073842496116159))"
      ]
     },
     "execution_count": 553,
     "metadata": {},
     "output_type": "execute_result"
    }
   ],
   "source": [
    "aw = t_value(15,statystyki(a)['std'],statystyki(a)['mean'],0)\n",
    "aw"
   ]
  },
  {
   "cell_type": "markdown",
   "metadata": {},
   "source": [
    "Wyniki :"
   ]
  },
  {
   "cell_type": "code",
   "execution_count": 554,
   "metadata": {},
   "outputs": [
    {
     "name": "stdout",
     "output_type": "stream",
     "text": [
      "Nie ma wystarczających dowodów aby odrzucić H0, średnie są równe 0\n"
     ]
    }
   ],
   "source": [
    "if aw[1] < 0.05:\n",
    "    print(\"Odrzucamy H0 i przyjmujemy alternatywną, średnie są różne od 0\")\n",
    "else:\n",
    "    print(\"Nie ma wystarczających dowodów aby odrzucić H0, średnie są równe 0\")"
   ]
  },
  {
   "cell_type": "markdown",
   "metadata": {},
   "source": [
    "#### Próba 120 elementowa z tej listy"
   ]
  },
  {
   "cell_type": "markdown",
   "metadata": {},
   "source": [
    "Test shapiro wilka odrzucił hipotezę, że próba 120 elementowa ma rozkład normalny.  \n",
    "Więc wykonuję test nieparametryczny wilcoxon'a dla jednej próby.  \n",
    "Poziom istotności 0.05 "
   ]
  },
  {
   "cell_type": "markdown",
   "metadata": {},
   "source": [
    "Obliczanie statystyki testowej i wartości p :"
   ]
  },
  {
   "cell_type": "code",
   "execution_count": 555,
   "metadata": {},
   "outputs": [],
   "source": [
    "stat_0, p_value_0 = wilcoxon(b)"
   ]
  },
  {
   "cell_type": "code",
   "execution_count": 556,
   "metadata": {},
   "outputs": [
    {
     "name": "stdout",
     "output_type": "stream",
     "text": [
      "Statystyka testowa = 3500.0, wartość p = 0.9775021896560724\n"
     ]
    }
   ],
   "source": [
    "print(f\"Statystyka testowa = {stat_0}, wartość p = {p_value_0}\")"
   ]
  },
  {
   "cell_type": "markdown",
   "metadata": {},
   "source": [
    "Wyniki : "
   ]
  },
  {
   "cell_type": "code",
   "execution_count": 557,
   "metadata": {},
   "outputs": [
    {
     "name": "stdout",
     "output_type": "stream",
     "text": [
      "Nie ma wystarczających dowodów aby odrzucić H0, średnie są równe 0\n"
     ]
    }
   ],
   "source": [
    "if  p_value_0 < 0.05:\n",
    "    print(\"Odrzucamy H0 i przyjmujemy alternatywną, średnie są różne 0\")\n",
    "else:\n",
    "    print(\"Nie ma wystarczających dowodów aby odrzucić H0, średnie są równe 0\")"
   ]
  },
  {
   "cell_type": "markdown",
   "metadata": {},
   "source": [
    "## Wnioski"
   ]
  },
  {
   "cell_type": "markdown",
   "metadata": {},
   "source": [
    "Ciągi a i b z tej listy, nieznacznie różnią się wartościami statystyki opisowej od swoich odpowiedników z listy 2.    \n",
    "Na histogramach lepiej dopasowują się do funkcji gęstości rozkładu równomiernego U(-1;1) od swoich odpowiedników z listy 2  \n",
    "Test statystyczny na poziomie istotności 0.05 dla prób 15 elementowych nie odrzucił hipotezy, że dane mają rozkład normalny,  \n",
    "jednak dla prób 120 elementowych już tak. Może to wynikać z różnicy liczności tych prób.  \n",
    "testy również nie odrzucają hipotezy, że próby z tej listy mają średnią = 0, oraz średnie prób z tej listy oraz listy 2 mają równe średnie na poziomie  \n",
    "istotności 0.05 \n"
   ]
  }
 ],
 "metadata": {
  "kernelspec": {
   "display_name": ".venv",
   "language": "python",
   "name": "python3"
  },
  "language_info": {
   "codemirror_mode": {
    "name": "ipython",
    "version": 3
   },
   "file_extension": ".py",
   "mimetype": "text/x-python",
   "name": "python",
   "nbconvert_exporter": "python",
   "pygments_lexer": "ipython3",
   "version": "3.12.3"
  }
 },
 "nbformat": 4,
 "nbformat_minor": 2
}
