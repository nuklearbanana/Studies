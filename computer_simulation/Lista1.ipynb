{
 "cells": [
  {
   "cell_type": "markdown",
   "metadata": {},
   "source": [
    "# Symulacja Komputerowa, Lista 1"
   ]
  },
  {
   "cell_type": "markdown",
   "metadata": {},
   "source": [
    "## Kod"
   ]
  },
  {
   "cell_type": "markdown",
   "metadata": {},
   "source": [
    "Importowanie bibliotek"
   ]
  },
  {
   "cell_type": "code",
   "execution_count": 70,
   "metadata": {},
   "outputs": [],
   "source": [
    "import random \n",
    "import numpy as np\n",
    "import matplotlib.pyplot as plt\n",
    "import math\n",
    "from collections import Counter\n",
    "from scipy import stats\n",
    "from scipy.stats import t as tp\n",
    "from scipy.stats import chi2"
   ]
  },
  {
   "cell_type": "markdown",
   "metadata": {},
   "source": [
    "Funkcja losująca współrzędne X i Y z rozkładu równomiernego"
   ]
  },
  {
   "cell_type": "code",
   "execution_count": 3,
   "metadata": {},
   "outputs": [],
   "source": [
    "def cords():\n",
    "    X = random.uniform(0,20)\n",
    "    Y = random.uniform(0,20)\n",
    "    return X,Y"
   ]
  },
  {
   "cell_type": "markdown",
   "metadata": {},
   "source": [
    "Funkcja licząca występowanie każdej klasy"
   ]
  },
  {
   "cell_type": "code",
   "execution_count": 4,
   "metadata": {},
   "outputs": [],
   "source": [
    "def classes(data):\n",
    "    return Counter(data)"
   ]
  },
  {
   "cell_type": "markdown",
   "metadata": {},
   "source": [
    "Funkcja do obliczania punktów dla każdego strzału\n"
   ]
  },
  {
   "cell_type": "code",
   "execution_count": 5,
   "metadata": {},
   "outputs": [],
   "source": [
    "import math\n",
    "\n",
    "def in_circle(x, y):\n",
    "    center1 = [10, 0]  \n",
    "    center2 = [10, 20] \n",
    "\n",
    "    dist1 = math.dist([x, y], center1)\n",
    "    dist2 = math.dist([x, y], center2)\n",
    "    \n",
    "    def get_points(dist):\n",
    "        if dist <= 1:\n",
    "            return 10\n",
    "        elif dist <= 2:\n",
    "            return 9\n",
    "        elif dist <= 3:\n",
    "            return 8\n",
    "        elif dist <= 4:\n",
    "            return 7\n",
    "        elif dist <= 5:\n",
    "            return 6\n",
    "        elif dist <= 6:\n",
    "            return 5\n",
    "        elif dist <= 7:\n",
    "            return 4\n",
    "        elif dist <= 8:\n",
    "            return 3\n",
    "        elif dist <= 9:\n",
    "            return 2\n",
    "        elif dist <= 10:\n",
    "            return 1\n",
    "        else:\n",
    "            return 0\n",
    "    \n",
    "    points1 = get_points(dist1)\n",
    "    points2 = get_points(dist2)\n",
    "    \n",
    "    return max(points1, points2)\n"
   ]
  },
  {
   "cell_type": "markdown",
   "metadata": {},
   "source": [
    "Funkcja do obliczania statystyki testowej t - studenta"
   ]
  },
  {
   "cell_type": "code",
   "execution_count": 6,
   "metadata": {},
   "outputs": [],
   "source": [
    "def t_value(n,std,mean,h_value):\n",
    "    t = (mean - h_value)/(std/math.sqrt(n))\n",
    "    p = 2 * tp.sf(abs(t), n-1)\n",
    "    return t,p"
   ]
  },
  {
   "cell_type": "markdown",
   "metadata": {},
   "source": [
    "Funkcja testu Chi-Kwadrat"
   ]
  },
  {
   "cell_type": "code",
   "execution_count": 71,
   "metadata": {},
   "outputs": [],
   "source": [
    "def chisquare(data):\n",
    "    n_classes = 10 \n",
    "    n = len(data)  \n",
    "    expected_value = n / n_classes \n",
    "    count = Counter(data)\n",
    "    observed = np.array([count.get(i, 0) for i in range(1, n_classes + 1)])  \n",
    "    result = np.sum((observed - expected_value) ** 2 / expected_value) \n",
    "    df = n-1\n",
    "    p_value = chi2.sf(result, df)\n",
    "    return result,p_value\n"
   ]
  },
  {
   "cell_type": "markdown",
   "metadata": {},
   "source": [
    "Funkcja do rysowania histogramów"
   ]
  },
  {
   "cell_type": "code",
   "execution_count": 65,
   "metadata": {},
   "outputs": [],
   "source": [
    "def histogram(a):\n",
    "\n",
    "    plt.figure(figsize=(12,8))\n",
    "    plt.hist(a, bins=np.arange(0, 11, 1), density=False, color='skyblue', edgecolor='black')\n",
    "    plt.title(f'Histogram dla próby o długości {len(a)}')\n",
    "    plt.xlabel('Wartości')\n",
    "    plt.ylabel('Gęstość')\n",
    "    plt.xticks(np.arange(0, 11, 1))\n",
    "    plt.legend()\n",
    "\n",
    "    plt.tight_layout()\n",
    "    plt.show()"
   ]
  },
  {
   "cell_type": "markdown",
   "metadata": {},
   "source": [
    "## Symulacja"
   ]
  },
  {
   "cell_type": "markdown",
   "metadata": {},
   "source": [
    "Symulacja n = 10"
   ]
  },
  {
   "cell_type": "code",
   "execution_count": 38,
   "metadata": {},
   "outputs": [],
   "source": [
    "points_10 = []\n",
    "for i in range(10):\n",
    "    X,Y = cords()\n",
    "    point = in_circle(X,Y)\n",
    "    points_10.append(point)\n",
    "    \n",
    "    "
   ]
  },
  {
   "cell_type": "markdown",
   "metadata": {},
   "source": [
    "Symulacja n = 100"
   ]
  },
  {
   "cell_type": "code",
   "execution_count": 39,
   "metadata": {},
   "outputs": [],
   "source": [
    "points_100 = []\n",
    "for i in range(100):\n",
    "    X,Y = cords()\n",
    "    point = in_circle(X,Y)\n",
    "    points_100.append(point)"
   ]
  },
  {
   "cell_type": "markdown",
   "metadata": {},
   "source": [
    "Symulacja n = 1000"
   ]
  },
  {
   "cell_type": "code",
   "execution_count": 40,
   "metadata": {},
   "outputs": [],
   "source": [
    "points_1000 = []\n",
    "for i in range(1000):\n",
    "    X,Y = cords()\n",
    "    point = in_circle(X,Y)\n",
    "    points_1000.append(point)"
   ]
  },
  {
   "cell_type": "markdown",
   "metadata": {},
   "source": [
    "### Średnia z prób"
   ]
  },
  {
   "cell_type": "code",
   "execution_count": 41,
   "metadata": {},
   "outputs": [],
   "source": [
    "mean_10 = np.mean(points_10)\n",
    "mean_100 = np.mean(points_10)\n",
    "mean_1000 = np.mean(points_10)"
   ]
  },
  {
   "cell_type": "markdown",
   "metadata": {},
   "source": [
    "Dla symulacji n = 10"
   ]
  },
  {
   "cell_type": "code",
   "execution_count": 42,
   "metadata": {},
   "outputs": [
    {
     "data": {
      "text/plain": [
       "np.float64(2.2)"
      ]
     },
     "execution_count": 42,
     "metadata": {},
     "output_type": "execute_result"
    }
   ],
   "source": [
    "mean_10"
   ]
  },
  {
   "cell_type": "markdown",
   "metadata": {},
   "source": [
    "Dla symulacji n = 100"
   ]
  },
  {
   "cell_type": "code",
   "execution_count": 43,
   "metadata": {},
   "outputs": [
    {
     "data": {
      "text/plain": [
       "np.float64(2.2)"
      ]
     },
     "execution_count": 43,
     "metadata": {},
     "output_type": "execute_result"
    }
   ],
   "source": [
    "mean_100"
   ]
  },
  {
   "cell_type": "markdown",
   "metadata": {},
   "source": [
    "Dla symulacji n = 1000"
   ]
  },
  {
   "cell_type": "code",
   "execution_count": 44,
   "metadata": {},
   "outputs": [
    {
     "data": {
      "text/plain": [
       "np.float64(2.2)"
      ]
     },
     "execution_count": 44,
     "metadata": {},
     "output_type": "execute_result"
    }
   ],
   "source": [
    "mean_1000"
   ]
  },
  {
   "cell_type": "markdown",
   "metadata": {},
   "source": [
    "### Odchylenie standardowe z prób"
   ]
  },
  {
   "cell_type": "code",
   "execution_count": 45,
   "metadata": {},
   "outputs": [],
   "source": [
    "std_10 = np.std(points_10)\n",
    "std_100 = np.std(points_100)\n",
    "std_1000 = np.std(points_1000)"
   ]
  },
  {
   "cell_type": "markdown",
   "metadata": {},
   "source": [
    "Dla symulacji n = 10"
   ]
  },
  {
   "cell_type": "code",
   "execution_count": 46,
   "metadata": {},
   "outputs": [
    {
     "data": {
      "text/plain": [
       "np.float64(1.5362291495737217)"
      ]
     },
     "execution_count": 46,
     "metadata": {},
     "output_type": "execute_result"
    }
   ],
   "source": [
    "std_10"
   ]
  },
  {
   "cell_type": "markdown",
   "metadata": {},
   "source": [
    "Dla symulacji n = 100"
   ]
  },
  {
   "cell_type": "code",
   "execution_count": 47,
   "metadata": {},
   "outputs": [
    {
     "data": {
      "text/plain": [
       "np.float64(2.4994999499899975)"
      ]
     },
     "execution_count": 47,
     "metadata": {},
     "output_type": "execute_result"
    }
   ],
   "source": [
    "std_100"
   ]
  },
  {
   "cell_type": "markdown",
   "metadata": {},
   "source": [
    "Dla symulacji n = 1000"
   ]
  },
  {
   "cell_type": "code",
   "execution_count": 48,
   "metadata": {},
   "outputs": [
    {
     "data": {
      "text/plain": [
       "np.float64(2.7161855606714354)"
      ]
     },
     "execution_count": 48,
     "metadata": {},
     "output_type": "execute_result"
    }
   ],
   "source": [
    "std_1000"
   ]
  },
  {
   "cell_type": "markdown",
   "metadata": {},
   "source": [
    "### Wartości krytyczne"
   ]
  },
  {
   "cell_type": "markdown",
   "metadata": {},
   "source": [
    "## Testy statystyczne i Histogramy"
   ]
  },
  {
   "cell_type": "markdown",
   "metadata": {},
   "source": [
    "### Hipoteza"
   ]
  },
  {
   "cell_type": "markdown",
   "metadata": {},
   "source": [
    "Hipoteza zerowa : Średnia wyników symulacji jest większa od 5   \n",
    "Hipoteza alternatywna : Średnia wyników symulacji jest mniejsza lub równa 5"
   ]
  },
  {
   "cell_type": "markdown",
   "metadata": {},
   "source": [
    "\n",
    "### Wartości Krytyczne"
   ]
  },
  {
   "cell_type": "code",
   "execution_count": 49,
   "metadata": {},
   "outputs": [],
   "source": [
    "critical_value_10 = 1.8331\n",
    "critical_value_100 = 1.660\n",
    "critical_value_1000 = 1.645"
   ]
  },
  {
   "cell_type": "markdown",
   "metadata": {},
   "source": [
    "### Dla Symulacji n = 10"
   ]
  },
  {
   "cell_type": "markdown",
   "metadata": {},
   "source": [
    "Histogram"
   ]
  },
  {
   "cell_type": "code",
   "execution_count": 66,
   "metadata": {},
   "outputs": [
    {
     "name": "stderr",
     "output_type": "stream",
     "text": [
      "C:\\Users\\nukle\\AppData\\Local\\Temp\\ipykernel_10312\\1487444111.py:9: UserWarning: No artists with labels found to put in legend.  Note that artists whose label start with an underscore are ignored when legend() is called with no argument.\n",
      "  plt.legend()\n"
     ]
    },
    {
     "data": {
      "image/png": "[encoded data removed]",
      "text/plain": [
       "<Figure size 1200x800 with 1 Axes>"
      ]
     },
     "metadata": {},
     "output_type": "display_data"
    }
   ],
   "source": [
    "histogram(points_10)"
   ]
  },
  {
   "cell_type": "markdown",
   "metadata": {},
   "source": [
    "Wynik testu t - studenta"
   ]
  },
  {
   "cell_type": "code",
   "execution_count": null,
   "metadata": {},
   "outputs": [
    {
     "name": "stdout",
     "output_type": "stream",
     "text": [
      "Odrzucamy hipotezę zerową i przyjmujemy alternatywną\n"
     ]
    }
   ],
   "source": [
    "if abs(t_value(10,std_10,mean_10,5)[0]) > critical_value_10:\n",
    "    print(\"Odrzucamy hipotezę zerową i przyjmujemy alternatywną\")\n",
    "else:\n",
    "    print(\"Nie ma podstaw do odrzucenia hipotezy zerowej\")"
   ]
  },
  {
   "cell_type": "markdown",
   "metadata": {},
   "source": [
    "Statystyka testowa po lewej i wartośc p po prawej: "
   ]
  },
  {
   "cell_type": "code",
   "execution_count": null,
   "metadata": {},
   "outputs": [
    {
     "data": {
      "text/plain": [
       "(np.float64(-2.2223915924615767), np.float64(0.05335537395972301))"
      ]
     },
     "execution_count": 27,
     "metadata": {},
     "output_type": "execute_result"
    }
   ],
   "source": [
    "t_value(10,std_10,mean_10,5)"
   ]
  },
  {
   "cell_type": "markdown",
   "metadata": {},
   "source": [
    "### Dla symulacji n = 100"
   ]
  },
  {
   "cell_type": "markdown",
   "metadata": {},
   "source": [
    "Histogram"
   ]
  },
  {
   "cell_type": "code",
   "execution_count": 69,
   "metadata": {},
   "outputs": [
    {
     "name": "stderr",
     "output_type": "stream",
     "text": [
      "C:\\Users\\nukle\\AppData\\Local\\Temp\\ipykernel_10312\\1487444111.py:9: UserWarning: No artists with labels found to put in legend.  Note that artists whose label start with an underscore are ignored when legend() is called with no argument.\n",
      "  plt.legend()\n"
     ]
    },
    {
     "data": {
      "image/png": "[encoded data removed]",
      "text/plain": [
       "<Figure size 1200x800 with 1 Axes>"
      ]
     },
     "metadata": {},
     "output_type": "display_data"
    }
   ],
   "source": [
    "histogram(points_100)\n"
   ]
  },
  {
   "cell_type": "markdown",
   "metadata": {},
   "source": [
    "Wynik testu t - studenta\n"
   ]
  },
  {
   "cell_type": "code",
   "execution_count": null,
   "metadata": {},
   "outputs": [
    {
     "name": "stdout",
     "output_type": "stream",
     "text": [
      "Odrzucamy hipotezę zerową i przyjmujemy alternathywną\n"
     ]
    }
   ],
   "source": [
    "if abs(t_value(100,std_100,mean_100,5)) > critical_value_100:\n",
    "    print(\"Odrzucamy hipotezę zerową i przyjmujemy alternathywną\")\n",
    "else:\n",
    "    print(\"Nie ma podstaw do odrzucenia hipotezy zerowej\")"
   ]
  },
  {
   "cell_type": "markdown",
   "metadata": {},
   "source": [
    "Statystyka testowa po lewej i wartośc p po prawej: "
   ]
  },
  {
   "cell_type": "code",
   "execution_count": 82,
   "metadata": {},
   "outputs": [
    {
     "data": {
      "text/plain": [
       "(np.float64(-11.202240672224077), np.float64(2.664781489351964e-19))"
      ]
     },
     "execution_count": 82,
     "metadata": {},
     "output_type": "execute_result"
    }
   ],
   "source": [
    "t_value(100,std_100,mean_100,5)"
   ]
  },
  {
   "cell_type": "markdown",
   "metadata": {},
   "source": [
    "### Dla symulacji n = 1000"
   ]
  },
  {
   "cell_type": "markdown",
   "metadata": {},
   "source": [
    "Histogram"
   ]
  },
  {
   "cell_type": "code",
   "execution_count": 68,
   "metadata": {},
   "outputs": [
    {
     "name": "stderr",
     "output_type": "stream",
     "text": [
      "C:\\Users\\nukle\\AppData\\Local\\Temp\\ipykernel_10312\\1487444111.py:9: UserWarning: No artists with labels found to put in legend.  Note that artists whose label start with an underscore are ignored when legend() is called with no argument.\n",
      "  plt.legend()\n"
     ]
    },
    {
     "data": {
      "image/png": "[encoded data removed]",
      "text/plain": [
       "<Figure size 1200x800 with 1 Axes>"
      ]
     },
     "metadata": {},
     "output_type": "display_data"
    }
   ],
   "source": [
    "histogram(points_1000)"
   ]
  },
  {
   "cell_type": "markdown",
   "metadata": {},
   "source": [
    "Wynik testu t - studenta"
   ]
  },
  {
   "cell_type": "code",
   "execution_count": null,
   "metadata": {},
   "outputs": [
    {
     "name": "stdout",
     "output_type": "stream",
     "text": [
      "Odrzucamy hipotezę zerową i przyjmujemy alternathywną\n"
     ]
    }
   ],
   "source": [
    "if abs(t_value(1000,std_1000,mean_1000,5)) > critical_value_1000:\n",
    "    print(\"Odrzucamy hipotezę zerową i przyjmujemy alternathywną\")\n",
    "else:\n",
    "    print(\"Nie ma podstaw do odrzucenia hipotezy zerowej\")"
   ]
  },
  {
   "cell_type": "markdown",
   "metadata": {},
   "source": [
    "Statystyka testowa po lewej i wartośc p po prawej: "
   ]
  },
  {
   "cell_type": "code",
   "execution_count": 83,
   "metadata": {},
   "outputs": [
    {
     "data": {
      "text/plain": [
       "(np.float64(-32.59857344312911), np.float64(2.378834763766594e-159))"
      ]
     },
     "execution_count": 83,
     "metadata": {},
     "output_type": "execute_result"
    }
   ],
   "source": [
    "t_value(1000,std_1000,mean_1000,5)"
   ]
  },
  {
   "cell_type": "markdown",
   "metadata": {},
   "source": [
    "## Sprawdzanie, czy rozkład wyników jest równomierny"
   ]
  },
  {
   "cell_type": "markdown",
   "metadata": {},
   "source": [
    "### Wartość krytyczna testu chi-kwadrat"
   ]
  },
  {
   "cell_type": "code",
   "execution_count": null,
   "metadata": {},
   "outputs": [],
   "source": [
    "critical_value_chisquare = 16.919"
   ]
  },
  {
   "cell_type": "markdown",
   "metadata": {},
   "source": [
    "Poziom istotności testu chi-kwadrat : 0.05"
   ]
  },
  {
   "cell_type": "markdown",
   "metadata": {},
   "source": [
    "H0 : rozkład ciągu jest równomierny  \n",
    "HA : rozkład ciągu nie jest równomierny"
   ]
  },
  {
   "cell_type": "markdown",
   "metadata": {},
   "source": [
    "### Dla n = 10"
   ]
  },
  {
   "cell_type": "markdown",
   "metadata": {},
   "source": [
    "Statystyka testowa dla n = 10 : po lewej statystyka testowa, po prawej wartość p"
   ]
  },
  {
   "cell_type": "code",
   "execution_count": 72,
   "metadata": {},
   "outputs": [
    {
     "data": {
      "text/plain": [
       "(np.float64(17.0), np.float64(0.048715976147641296))"
      ]
     },
     "execution_count": 72,
     "metadata": {},
     "output_type": "execute_result"
    }
   ],
   "source": [
    "chisquare(points_10)"
   ]
  },
  {
   "cell_type": "code",
   "execution_count": 74,
   "metadata": {},
   "outputs": [
    {
     "name": "stdout",
     "output_type": "stream",
     "text": [
      "Nie możemy odrzucić hipotezy zerowej - rozkład jest równomierny.\n"
     ]
    }
   ],
   "source": [
    "if chisquare(points_10)[1] > 0.05:\n",
    "    print(\"Odrzucamy hipotezę zerową - rozkład nie jest równomierny.\")\n",
    "else:\n",
    "    print(\"Nie możemy odrzucić hipotezy zerowej - rozkład jest równomierny.\")\n"
   ]
  },
  {
   "cell_type": "markdown",
   "metadata": {},
   "source": [
    "### Dla n = 100"
   ]
  },
  {
   "cell_type": "markdown",
   "metadata": {},
   "source": [
    "Statystyka testowa dla n = 10 : po lewej statystyka testowa, po prawej wartość p"
   ]
  },
  {
   "cell_type": "code",
   "execution_count": 79,
   "metadata": {},
   "outputs": [
    {
     "data": {
      "text/plain": [
       "(np.float64(36.3), np.float64(0.9999999990219828))"
      ]
     },
     "execution_count": 79,
     "metadata": {},
     "output_type": "execute_result"
    }
   ],
   "source": [
    "chisquare(points_100)"
   ]
  },
  {
   "cell_type": "markdown",
   "metadata": {},
   "source": [
    "Wynik :"
   ]
  },
  {
   "cell_type": "code",
   "execution_count": 76,
   "metadata": {},
   "outputs": [
    {
     "name": "stdout",
     "output_type": "stream",
     "text": [
      "Odrzucamy hipotezę zerową - rozkład nie jest równomierny.\n"
     ]
    }
   ],
   "source": [
    "if chisquare(points_100)[1] > 0.05:\n",
    "    print(\"Odrzucamy hipotezę zerową - rozkład nie jest równomierny.\")\n",
    "else:\n",
    "    print(\"Nie możemy odrzucić hipotezy zerowej - rozkład jest równomierny.\")\n"
   ]
  },
  {
   "cell_type": "markdown",
   "metadata": {},
   "source": [
    "### Dla n = 1000"
   ]
  },
  {
   "cell_type": "markdown",
   "metadata": {},
   "source": [
    "Statystyka testowa dla n = 10 : po lewej statystyka testowa, po prawej wartość p"
   ]
  },
  {
   "cell_type": "code",
   "execution_count": 81,
   "metadata": {},
   "outputs": [
    {
     "data": {
      "text/plain": [
       "(np.float64(224.26999999999998), np.float64(1.0))"
      ]
     },
     "execution_count": 81,
     "metadata": {},
     "output_type": "execute_result"
    }
   ],
   "source": [
    "chisquare(points_1000)"
   ]
  },
  {
   "cell_type": "markdown",
   "metadata": {},
   "source": [
    "Wynik :"
   ]
  },
  {
   "cell_type": "code",
   "execution_count": 77,
   "metadata": {},
   "outputs": [
    {
     "name": "stdout",
     "output_type": "stream",
     "text": [
      "Odrzucamy hipotezę zerową - rozkład nie jest równomierny.\n"
     ]
    }
   ],
   "source": [
    "if chisquare(points_1000)[1] > 0.05:\n",
    "    print(\"Odrzucamy hipotezę zerową - rozkład nie jest równomierny.\")\n",
    "else:\n",
    "    print(\"Nie możemy odrzucić hipotezy zerowej - rozkład jest równomierny.\")\n"
   ]
  },
  {
   "cell_type": "markdown",
   "metadata": {},
   "source": [
    "## Wnioski"
   ]
  },
  {
   "cell_type": "markdown",
   "metadata": {},
   "source": [
    "Dla wszystkich trzech symulacji wynikiem testu t - Studenta jest odrzucenie hipotezy zerowej i przyjęcie alternatywnej.  \n",
    "Oznacza to, że średnia wyników symulacji nie jest większa od 5.   \n",
    "Wynik ten pokrywa się z tym co można zauważyć na histogramach dla każdej symulacji.  \n",
    "Widoczne jest tutaj znaczącą róznicę szczególnie pomiędzy występowaniem strzałów z punktacją 0, a innymi strzałami.  \n",
    "Nie jest to nic dziwnego, gdyż obszarów za które można zdobyć 0 pkt jest więcej niż innych.  \n",
    "\n",
    "Z Histogramów dla symulacji n = 1000 oraz n = 100 można z całą pewnością wywnioskować, że rozkłady punktacji strzałów nie są równomierne,  \n",
    "jednak aby się upewnić, został również przeprowadzony test Chi-Kwadrat, który również wykazał, że rozkłady dla tych dwóch symulacji nie są równomierne.  \n",
    "Sytuacja jest inna jeśli chodzi o symulacje n = 10. Prawdopodobnie z powodu małej ilości prób rozkład przypomina równomierny,  \n",
    "co wynik testu Chi-Kwadrat również potwierdza. \n",
    "\n",
    "Ostatecznie właśnie na podstawie wyników z symulacji n = 1000 oraz n = 100, które są bardziej wiarygodne z uwagi na większą ilość prób,  \n",
    "można stwierdzić, że rozkład wyników dyskobola nie jest rozkładem równomiernym. \n",
    "\n"
   ]
  }
 ],
 "metadata": {
  "kernelspec": {
   "display_name": ".venv",
   "language": "python",
   "name": "python3"
  },
  "language_info": {
   "codemirror_mode": {
    "name": "ipython",
    "version": 3
   },
   "file_extension": ".py",
   "mimetype": "text/x-python",
   "name": "python",
   "nbconvert_exporter": "python",
   "pygments_lexer": "ipython3",
   "version": "3.12.3"
  }
 },
 "nbformat": 4,
 "nbformat_minor": 2
}
