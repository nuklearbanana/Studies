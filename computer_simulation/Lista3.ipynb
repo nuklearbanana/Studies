{
 "cells": [
  {
   "cell_type": "markdown",
   "metadata": {},
   "source": [
    "# Lista 3"
   ]
  },
  {
   "cell_type": "markdown",
   "metadata": {},
   "source": [
    "## Kod\n"
   ]
  },
  {
   "cell_type": "markdown",
   "metadata": {},
   "source": [
    "### Importowanie Bibliotek"
   ]
  },
  {
   "cell_type": "code",
   "execution_count": 347,
   "metadata": {},
   "outputs": [],
   "source": [
    "import random\n",
    "import numpy as np\n",
    "from scipy import stats\n",
    "import matplotlib.pyplot as plt\n",
    "from scipy.stats import norm\n",
    "import math\n",
    "from scipy.stats import t as tp"
   ]
  },
  {
   "cell_type": "markdown",
   "metadata": {},
   "source": [
    "### Funkcje"
   ]
  },
  {
   "cell_type": "markdown",
   "metadata": {},
   "source": [
    "Funkcja do wygenerowania ciągu n liczb z rozkładu normalnego"
   ]
  },
  {
   "cell_type": "code",
   "execution_count": 348,
   "metadata": {},
   "outputs": [],
   "source": [
    "def string_generator(n):\n",
    "    result = []\n",
    "    for i in range(n):\n",
    "        result.append(random.gauss(0.5,0.5))\n",
    "    return result"
   ]
  },
  {
   "cell_type": "markdown",
   "metadata": {},
   "source": [
    "Funkcja do uzyskania dominanty z ciągu liczb"
   ]
  },
  {
   "cell_type": "code",
   "execution_count": 349,
   "metadata": {},
   "outputs": [],
   "source": [
    "def dominanta(data):\n",
    "    values, counts = np.unique(data, return_counts=True)\n",
    "    max_count = np.max(counts)\n",
    "    result = values[counts == max_count]\n",
    "    if len(result) > 1:\n",
    "        return \"Brak dominanty\"\n",
    "    else:\n",
    "        return result[0]"
   ]
  },
  {
   "cell_type": "markdown",
   "metadata": {},
   "source": [
    "Funkcja do uzyskania statystyk opisowych z ciągu liczb"
   ]
  },
  {
   "cell_type": "code",
   "execution_count": 350,
   "metadata": {},
   "outputs": [],
   "source": [
    "def statystyki(data):\n",
    "    mean = np.mean(data)\n",
    "    median = np.median(data)\n",
    "    mode = dominanta(data)\n",
    "    std = np.std(data)\n",
    "    var = np.var(data)\n",
    "    skew = stats.skew(data)\n",
    "    kurtoza = stats.kurtosis(data,fisher=True)\n",
    "    Q1, Q2, Q3 = np.percentile(data, [25, 50, 75])\n",
    "    \n",
    "\n",
    "    result = {\n",
    "        'mean':mean,\n",
    "        'median':median,\n",
    "        'mode':mode,\n",
    "        'std':std,\n",
    "        'var':var,\n",
    "        'skosnosc':skew,\n",
    "        'kurtoza':kurtoza,\n",
    "        'kwartyl_25': Q1,\n",
    "        'kwartyl_50': Q2,\n",
    "        'kwartyl_75': Q3\n",
    "    }\n",
    "    return result"
   ]
  },
  {
   "cell_type": "markdown",
   "metadata": {},
   "source": [
    "Funkcja do obliczania dystrybuanty empirycznej"
   ]
  },
  {
   "cell_type": "code",
   "execution_count": 351,
   "metadata": {},
   "outputs": [],
   "source": [
    "def dystrybuanta_empiryczna(data, x):\n",
    "    return np.sum(data <= x) / len(data)"
   ]
  },
  {
   "cell_type": "markdown",
   "metadata": {},
   "source": [
    "Funkcja do obliczania statystyki testowej dla testu kolmogorova-smirnova"
   ]
  },
  {
   "cell_type": "code",
   "execution_count": 352,
   "metadata": {},
   "outputs": [],
   "source": [
    "\n",
    "def kolmogorov_smirnov(data, mean=0.5, std=0.5):\n",
    "   \n",
    "    data = np.sort(data)\n",
    "    n = len(data)\n",
    "    D = max(abs(dystrybuanta_empiryczna(data, x) - stats.norm.cdf(x, mean, std)) for x in data)\n",
    "    p_value = 2 * np.exp(-2 * (D ** 2) * n)\n",
    "    return D, p_value\n"
   ]
  },
  {
   "cell_type": "markdown",
   "metadata": {},
   "source": [
    "Funkcja do generowania histogramów dla dwóch ciągów"
   ]
  },
  {
   "cell_type": "code",
   "execution_count": 353,
   "metadata": {},
   "outputs": [],
   "source": [
    "def histogram(a,b):\n",
    "\n",
    "    fig, axes = plt.subplots(1, 2, figsize=(14, 6))\n",
    "    \n",
    "    x = np.linspace(-1, 2, 1000)\n",
    "    y = norm.pdf(x, 0.5, 0.5)\n",
    "    axes[0].hist(a, bins=np.linspace(-1, 2, 13), density=True, color='skyblue', edgecolor='black')\n",
    "    axes[0].plot(x, y, color='red', label='Funkcja gęstości')\n",
    "    axes[0].set_title(f'Histogram dla próby o długości {len(a)}')\n",
    "    axes[0].set_xlabel('Wartości')\n",
    "    axes[0].set_ylabel('Gęstość')\n",
    "    axes[0].set_xticks(np.arange(-1, 2.25, 0.25))\n",
    "    axes[0].legend()\n",
    "\n",
    "    axes[1].hist(b, bins=np.linspace(-1, 2, 13), alpha = 0.5,density=True, color='orange', edgecolor='black')\n",
    "    axes[1].plot(x, y, color='red', label='Funkcja gęstości')\n",
    "    axes[1].set_title(f'Histogram dla próby o długości {len(b)}')\n",
    "    axes[1].set_xlabel('Wartości')\n",
    "    axes[1].set_ylabel('Gęstość')\n",
    "    axes[1].set_xticks(np.arange(-1, 2.25, 0.25))\n",
    "    axes[0].legend()\n",
    "    \n",
    "    plt.tight_layout()\n",
    "    plt.show()\n"
   ]
  },
  {
   "cell_type": "markdown",
   "metadata": {},
   "source": [
    "Funkcja do obliczania statystyki testowej t-studenta i wartości p"
   ]
  },
  {
   "cell_type": "code",
   "execution_count": 354,
   "metadata": {},
   "outputs": [],
   "source": [
    "def t_value(n,std,mean,h_value):\n",
    "    t = (mean - h_value)/(std/math.sqrt(n))\n",
    "    p = 2 * tp.sf(abs(t), n-1)\n",
    "    return t,p"
   ]
  },
  {
   "cell_type": "markdown",
   "metadata": {},
   "source": [
    "## Wygenerowanie ciągu a - 15 elementowego i b - 120 elementowego"
   ]
  },
  {
   "cell_type": "code",
   "execution_count": 355,
   "metadata": {},
   "outputs": [],
   "source": [
    "a = string_generator(15)"
   ]
  },
  {
   "cell_type": "code",
   "execution_count": 356,
   "metadata": {},
   "outputs": [],
   "source": [
    "b = string_generator(120)"
   ]
  },
  {
   "cell_type": "markdown",
   "metadata": {},
   "source": [
    "## Statystyki ciągów a i b"
   ]
  },
  {
   "cell_type": "code",
   "execution_count": 359,
   "metadata": {},
   "outputs": [
    {
     "data": {
      "text/plain": [
       "{'mean': np.float64(0.37270088767939974),\n",
       " 'median': np.float64(0.4690012141639791),\n",
       " 'mode': 'Brak dominanty',\n",
       " 'std': np.float64(0.4961520896531639),\n",
       " 'var': np.float64(0.24616689606720119),\n",
       " 'skosnosc': np.float64(-0.20426291624021103),\n",
       " 'kurtoza': np.float64(-0.8783732525114418),\n",
       " 'kwartyl_25': np.float64(-0.05258073034610539),\n",
       " 'kwartyl_50': np.float64(0.4690012141639791),\n",
       " 'kwartyl_75': np.float64(0.6586003646733949)}"
      ]
     },
     "execution_count": 359,
     "metadata": {},
     "output_type": "execute_result"
    }
   ],
   "source": [
    "statystyki(a)"
   ]
  },
  {
   "cell_type": "code",
   "execution_count": 360,
   "metadata": {},
   "outputs": [
    {
     "data": {
      "text/plain": [
       "{'mean': np.float64(0.5027463169660095),\n",
       " 'median': np.float64(0.48527618421723695),\n",
       " 'mode': 'Brak dominanty',\n",
       " 'std': np.float64(0.4741995924215169),\n",
       " 'var': np.float64(0.22486525345273273),\n",
       " 'skosnosc': np.float64(0.01840438662320666),\n",
       " 'kurtoza': np.float64(-0.02266487385247906),\n",
       " 'kwartyl_25': np.float64(0.178488573478762),\n",
       " 'kwartyl_50': np.float64(0.48527618421723695),\n",
       " 'kwartyl_75': np.float64(0.8161124900795171)}"
      ]
     },
     "execution_count": 360,
     "metadata": {},
     "output_type": "execute_result"
    }
   ],
   "source": [
    "statystyki(b)"
   ]
  },
  {
   "cell_type": "markdown",
   "metadata": {},
   "source": [
    "## Histogramy "
   ]
  },
  {
   "cell_type": "code",
   "execution_count": 361,
   "metadata": {},
   "outputs": [
    {
     "data": {
      "image/png": "[encoded data removed]",
      "text/plain": [
       "<Figure size 1400x600 with 2 Axes>"
      ]
     },
     "metadata": {},
     "output_type": "display_data"
    }
   ],
   "source": [
    "histogram(a,b)"
   ]
  },
  {
   "cell_type": "markdown",
   "metadata": {},
   "source": [
    "## Testy statystyczne"
   ]
  },
  {
   "cell_type": "markdown",
   "metadata": {},
   "source": [
    "Wynik statystyki testowej (liczba po lewej) rozkładu t-studenta dla ciągu 15 elementowego i wartości p (liczna po prawej)"
   ]
  },
  {
   "cell_type": "code",
   "execution_count": 362,
   "metadata": {},
   "outputs": [
    {
     "data": {
      "text/plain": [
       "(np.float64(-0.9937020367067767), np.float64(0.33723337767224437))"
      ]
     },
     "execution_count": 362,
     "metadata": {},
     "output_type": "execute_result"
    }
   ],
   "source": [
    "aw = t_value(15,statystyki(a)['std'],statystyki(a)['mean'],0.5)\n",
    "aw"
   ]
  },
  {
   "cell_type": "markdown",
   "metadata": {},
   "source": [
    "Wynik statystyki testowej (liczba po lewej) rozkładu t-studenta dla ciągu 15 elementowego i wartości p (liczna po prawej)"
   ]
  },
  {
   "cell_type": "code",
   "execution_count": 363,
   "metadata": {},
   "outputs": [
    {
     "data": {
      "text/plain": [
       "(np.float64(0.022430301591880725), np.float64(0.9824212716684085))"
      ]
     },
     "execution_count": 363,
     "metadata": {},
     "output_type": "execute_result"
    }
   ],
   "source": [
    "bw = t_value(15,statystyki(b)['std'],statystyki(b)['mean'],0.5)\n",
    "bw"
   ]
  },
  {
   "cell_type": "markdown",
   "metadata": {},
   "source": [
    "## Wnioski"
   ]
  },
  {
   "cell_type": "markdown",
   "metadata": {},
   "source": [
    "### Statystyka Opisowa"
   ]
  },
  {
   "cell_type": "markdown",
   "metadata": {},
   "source": [
    "- Średnia \n",
    "\n",
    "    Średnia dla rozkładu normalnego N(0.5,0.5) powinna być bliska 0.5  \n",
    "    Dla ciągu 15 elementowego wynosi ona 0.373  \n",
    "    Dla ciągu 120 elementowego wynosi ona 0.503  \n",
    "\n",
    "- Mediana\n",
    "\n",
    "    Mediana dla rozkładu normalnego N(0.5,0.5) powinna być bliska 0.5  \n",
    "    Dla ciągu 15 elementowego wynosi ona 0.47    \n",
    "    Dla ciągu 120 elementowego wynosi ona 0.485  \n",
    "\n",
    "- Moda\n",
    "\n",
    "    Dominta dla rozkładu normalnego N(0.5,0.5) powinna być bliska wartości 0.5  \n",
    "    Oba ciągi nie posiadają dominanty\n",
    "\n",
    "- Odchylenie standardowe\n",
    "\n",
    "    Std dla rozkładu normalnego N(0.5,0.5) powinno być bliskie 0.5  \n",
    "    Dla ciągu 15 elementowego wynosi ona 0.496   \n",
    "    Dla ciągu 120 elementowego wynosi ona 0.474  \n",
    "\n",
    "- Wariancja\n",
    "\n",
    "    Wariancja dla rozkładu normalnego N(0.5,0.5) powinna być bliska 0.25   \n",
    "    Dla ciągu 15 elementowego wynosi ona 0.246   \n",
    "    Dla ciągu 120 elementowego wynosi ona 0.225  \n",
    "\n",
    "- Skośność\n",
    " \n",
    "    Skośność dla rozkładu normalnego N(0.5,0.5) powinna wynosić 0 gdyż jest on symetryczny  \n",
    "    Dla ciągu 15 elementowego wynosi ona -0.204  \n",
    "    Dla ciągu 120 elementowego wynosi ona 0.018  \n",
    "\n",
    "- Kurtoza \n",
    "\n",
    "    Powinna wynosić 0 dla rozkładu normalnego N(0.5,0.5), dla standaryzacji Fishera  \n",
    "    Dla ciągu 15 elementowego wynosi ona -0.878  \n",
    "    Dla ciągu 120 elementowego wynosi ona -0.022  \n",
    "\n",
    "- Kwartyle\n",
    "    Dla ciągu 15 elementowego wynoszą:  \n",
    "    - Q1: -0.05258073034610539  \n",
    "    - Q2: 0.4690012141639791  \n",
    "    - Q3: 0.6586003646733949  \n",
    "    \n",
    "    Dla ciągu 120 elementowego wynoszą:  \n",
    "    - Q1: 0.178488573478762  \n",
    "    - Q2: 0.48527618421723695 \n",
    "    - Q3: 0.8161124900795171\n",
    "\n"
   ]
  },
  {
   "cell_type": "markdown",
   "metadata": {},
   "source": [
    "### Testy Statystyczne"
   ]
  },
  {
   "cell_type": "markdown",
   "metadata": {},
   "source": [
    "#### Test czy rozkład prób jest zgodny z rozkładem normalnym "
   ]
  },
  {
   "cell_type": "markdown",
   "metadata": {},
   "source": [
    "H0 - Rozkład próby jest rozkładem normalnym  \n",
    "HA - Rozkład próby nie jest rozkładem normalnym"
   ]
  },
  {
   "cell_type": "markdown",
   "metadata": {},
   "source": [
    "Poziom istotności :"
   ]
  },
  {
   "cell_type": "code",
   "execution_count": null,
   "metadata": {},
   "outputs": [],
   "source": [
    "alpha = 0.05"
   ]
  },
  {
   "cell_type": "markdown",
   "metadata": {},
   "source": [
    "Test dla ciągu a :"
   ]
  },
  {
   "cell_type": "code",
   "execution_count": 376,
   "metadata": {},
   "outputs": [
    {
     "name": "stdout",
     "output_type": "stream",
     "text": [
      "Brak podstaw do odrzucenia hipotezy zerowej. Rozkład ciągu jest normalny\n",
      "Wartość statystyki D: 0.17887622915123857, p-wartość: 0.7658614654504312\n"
     ]
    }
   ],
   "source": [
    "D, p_value = kolmogorov_smirnov(a)\n",
    "if p_value < alpha:\n",
    "    print(\"Odrzucamy hipotezę zerową. Rozkład ciągu nie jest normalny\")\n",
    "else:\n",
    "    print(\"Brak podstaw do odrzucenia hipotezy zerowej. Rozkład ciągu jest normalny\")\n",
    "\n",
    "print(f\"Wartość statystyki D: {D}, p-wartość: {p_value}\")"
   ]
  },
  {
   "cell_type": "markdown",
   "metadata": {},
   "source": [
    "Test dla ciągu b :"
   ]
  },
  {
   "cell_type": "code",
   "execution_count": 377,
   "metadata": {},
   "outputs": [
    {
     "name": "stdout",
     "output_type": "stream",
     "text": [
      "Brak podstaw do odrzucenia hipotezy zerowej. Rozkład ciągu jest być normalny\n",
      "Wartość statystyki D: 0.04180126688590491, p-wartość: 1.3149309587187774\n"
     ]
    }
   ],
   "source": [
    "D, p_value = kolmogorov_smirnov(b)\n",
    "if p_value < alpha:\n",
    "    print(\"Odrzucamy hipotezę zerową. Rozkład ciągu nie jest normalny\")\n",
    "else:\n",
    "\n",
    "    print(\"Brak podstaw do odrzucenia hipotezy zerowej. Rozkład ciągu jest być normalny\")\n",
    "\n",
    "print(f\"Wartość statystyki D: {D}, p-wartość: {p_value}\")"
   ]
  },
  {
   "cell_type": "markdown",
   "metadata": {},
   "source": [
    "#### Test czy średnia z prób jest równa 0.5 "
   ]
  },
  {
   "cell_type": "markdown",
   "metadata": {},
   "source": [
    "H0 - Średnia z prób jest równa 0.5  \n",
    "HA - Średnia z prób nie jest równa 0.5"
   ]
  },
  {
   "cell_type": "markdown",
   "metadata": {},
   "source": [
    "poziom istotności 0.05"
   ]
  },
  {
   "cell_type": "markdown",
   "metadata": {},
   "source": [
    "Dla ciągu 15 elementowego : "
   ]
  },
  {
   "cell_type": "code",
   "execution_count": 372,
   "metadata": {},
   "outputs": [
    {
     "name": "stdout",
     "output_type": "stream",
     "text": [
      "Nie ma wystarczających dowodów aby odrzucić H0. Średnia z próby jest równa 0.5\n"
     ]
    }
   ],
   "source": [
    "if aw[1] < 0.05:\n",
    "    print(\"Odrzucamy H0 i przyjmujemy HA. Średnia próby nie jest równa 0.5\")\n",
    "else:\n",
    "    print(\"Nie ma wystarczających dowodów aby odrzucić H0. Średnia z próby jest równa 0.5\")"
   ]
  },
  {
   "cell_type": "markdown",
   "metadata": {},
   "source": [
    "Dla ciągu 120 elementowego : "
   ]
  },
  {
   "cell_type": "code",
   "execution_count": 373,
   "metadata": {},
   "outputs": [
    {
     "name": "stdout",
     "output_type": "stream",
     "text": [
      "Nie ma wystarczających dowodów aby odrzucić H0. Średnia z próby jest równa 0.5\n"
     ]
    }
   ],
   "source": [
    "if bw[1] < 0.05:\n",
    "    print(\"Odrzucamy H0 i przyjmujemy HA. Średnia próby nie jest równa 0.5\")\n",
    "else:\n",
    "    print(\"Nie ma wystarczających dowodów aby odrzucić H0. Średnia z próby jest równa 0.5\")"
   ]
  },
  {
   "cell_type": "markdown",
   "metadata": {},
   "source": [
    "### Histogramy"
   ]
  },
  {
   "cell_type": "markdown",
   "metadata": {},
   "source": [
    "Można zauważyć, że histogramy dla prób o długościach 15 i 120 mają kształt funkcji gęstości rozkłądu normalnego.   \n",
    "Dla ciągu 120 elementowego histogram dokładniej mieści się w granicach tej funkcji, niż histogram dla ciągu 15 elementowego  \n",
    "czego przyczyną może być różnica w liczności próby."
   ]
  },
  {
   "cell_type": "markdown",
   "metadata": {},
   "source": [
    "### Wnioski końcowe"
   ]
  },
  {
   "cell_type": "markdown",
   "metadata": {},
   "source": [
    "Wyniki dla statystyki opisowej dla ciąagów 15 i 120 elementowych są zbliżone do teoretycznych wartośći rozkładu normalnego    \n",
    "Według testu Kołmogorowa - Smirnowa rozkład tych dwóch prób dla poziomu instotności 0.05 jest rozkładem normalnym.   \n",
    "Histogramy dla próby 15 i 120 elementowej również są podobne do rozkładu normalnego.  "
   ]
  }
 ],
 "metadata": {
  "kernelspec": {
   "display_name": ".venv",
   "language": "python",
   "name": "python3"
  },
  "language_info": {
   "codemirror_mode": {
    "name": "ipython",
    "version": 3
   },
   "file_extension": ".py",
   "mimetype": "text/x-python",
   "name": "python",
   "nbconvert_exporter": "python",
   "pygments_lexer": "ipython3",
   "version": "3.12.3"
  }
 },
 "nbformat": 4,
 "nbformat_minor": 2
}
