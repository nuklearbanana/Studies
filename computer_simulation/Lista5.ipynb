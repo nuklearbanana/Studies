{
 "cells": [
  {
   "cell_type": "markdown",
   "metadata": {},
   "source": [
    "# Lista 5"
   ]
  },
  {
   "cell_type": "markdown",
   "metadata": {},
   "source": [
    "## Kod "
   ]
  },
  {
   "cell_type": "markdown",
   "metadata": {},
   "source": [
    "### Importowanie bibliotek"
   ]
  },
  {
   "cell_type": "code",
   "execution_count": 178,
   "metadata": {},
   "outputs": [],
   "source": [
    "import time\n",
    "import math\n",
    "import matplotlib.pyplot as plt\n",
    "import numpy as np\n",
    "import scipy.stats as stats\n",
    "from scipy.stats import norm\n",
    "from PIL import Image\n",
    "from IPython.display import display\n",
    "from scipy.stats import shapiro,ttest_ind\n",
    "from scipy.stats import t as tp"
   ]
  },
  {
   "cell_type": "markdown",
   "metadata": {},
   "source": [
    "### Funkcje "
   ]
  },
  {
   "cell_type": "markdown",
   "metadata": {},
   "source": [
    "Generator liczb pseudolosowych "
   ]
  },
  {
   "cell_type": "code",
   "execution_count": 126,
   "metadata": {},
   "outputs": [],
   "source": [
    "class generator():\n",
    "    def __init__(self,a=1664525,c=1013904223,m=2*32,seed=None):\n",
    "        self.a = a\n",
    "        self.c = c\n",
    "        self.m = m\n",
    "        if seed == None:\n",
    "            seed = time.time()\n",
    "        self.current = seed\n",
    "        \n",
    "    \n",
    "    def random(self):\n",
    "        self.current = (self.a*self.current + self.c)%self.m\n",
    "        return self.current/self.m\n",
    "    \n",
    "    def normal(self):\n",
    "        x1 = self.random()\n",
    "        x2 = self.random()\n",
    "        z1 = math.sqrt(-2*math.log(x1))*math.cos(2*math.pi*x2)\n",
    "        return 0.5 + 0.5 * z1\n",
    "        \n",
    "        \n",
    "        "
   ]
  },
  {
   "cell_type": "markdown",
   "metadata": {},
   "source": [
    "Funkcja do obliczania statystyk opisowych "
   ]
  },
  {
   "cell_type": "code",
   "execution_count": 127,
   "metadata": {},
   "outputs": [],
   "source": [
    "def statystyki(data):\n",
    "    mean = np.mean(data)\n",
    "    median = np.median(data)\n",
    "    mode = stats.mode(data)\n",
    "    std = np.std(data)\n",
    "    var = np.var(data)\n",
    "    skew = stats.skew(data)\n",
    "    kurtoza = stats.kurtosis(data,fisher=True)\n",
    "    Q1, Q2, Q3 = np.percentile(data, [25, 50, 75])\n",
    "    \n",
    "\n",
    "    result = {\n",
    "        'mean':mean,\n",
    "        'median':median,\n",
    "        'mode':mode,\n",
    "        'std':std,\n",
    "        'var':var,\n",
    "        'skosnosc':skew,\n",
    "        'kurtoza':kurtoza,\n",
    "        'kwartyl_25': Q1,\n",
    "        'kwartyl_50': Q2,\n",
    "        'kwartyl_75': Q3\n",
    "    }\n",
    "    return result"
   ]
  },
  {
   "cell_type": "markdown",
   "metadata": {},
   "source": [
    "Funkcja do generowania ciągów o długości n z generatora"
   ]
  },
  {
   "cell_type": "code",
   "execution_count": 128,
   "metadata": {},
   "outputs": [],
   "source": [
    "def generator_ciagow(n):\n",
    "    gen = generator()\n",
    "    result = []\n",
    "    for i in range(n):\n",
    "        result.append(gen.normal())\n",
    "    return result"
   ]
  },
  {
   "cell_type": "markdown",
   "metadata": {},
   "source": [
    "Generowanie ciągów a i b"
   ]
  },
  {
   "cell_type": "code",
   "execution_count": 129,
   "metadata": {},
   "outputs": [],
   "source": [
    "a = generator_ciagow(20)\n",
    "b = generator_ciagow(100)"
   ]
  },
  {
   "cell_type": "markdown",
   "metadata": {},
   "source": [
    "Ciągi a i b z listy 3"
   ]
  },
  {
   "cell_type": "code",
   "execution_count": 136,
   "metadata": {},
   "outputs": [],
   "source": [
    "a2 = np.array([-0.06696181,  1.22929501,  0.12605877, -0.07129993,  0.85923473,\n",
    "        1.44015968,  0.24618215,  1.29503517,  0.21804109,  0.92182873,\n",
    "        0.83261584,  0.08875752, -0.11465233,  0.53400934,  0.37977839])\n",
    "b2 = np.array([ 1.12653133,  0.2834511 ,  0.13268093,  0.85505971,  0.21541661,\n",
    "        0.79952875,  0.67923513,  0.38143805,  1.19699549,  0.30560602,\n",
    "        0.52415704,  0.78749958,  0.24336738,  0.49342602,  1.21814289,\n",
    "        1.1450557 ,  0.87803847,  0.80106286,  0.03600593, -0.33892595,\n",
    "        0.97143263,  0.6316542 ,  0.31323828,  0.49853277,  0.33757125,\n",
    "        0.1814543 ,  0.99348971, -0.24072856, -0.20123598,  0.41705876,\n",
    "        0.30510422,  0.29063702,  0.1317941 ,  0.57749834,  0.90563429,\n",
    "        0.83172805,  0.73501458,  0.53814532,  0.34099723,  0.32455125,\n",
    "        0.46234119,  0.6368717 ,  1.70809701,  0.30229907, -0.40548867,\n",
    "        0.96788943, -0.089474  ,  0.9870014 ,  0.32664317,  1.2755905 ,\n",
    "        0.45360146,  0.3937188 , -0.56365275,  0.37160436,  0.02694252,\n",
    "       -0.02094619,  0.31215235,  1.59347161,  1.50530534,  1.04354158,\n",
    "        0.2816571 ,  0.51611615,  0.45499287,  0.94431351,  0.64873172,\n",
    "       -0.13598025,  0.25471736,  0.08050555,  0.52306382,  1.0165964 ,\n",
    "        1.20993895,  0.66493658,  0.15379302,  1.21375752,  1.23425181,\n",
    "        1.16399068,  0.6466094 ,  0.30518552, -0.310675  ,  1.32982741,\n",
    "        0.39993773,  0.22723363,  0.4547559 ,  0.93027484,  0.78920975,\n",
    "       -0.67231075,  0.53123184,  0.18586405,  0.79675346,  0.41411176,\n",
    "        0.60879676,  0.43315281,  0.51122938,  1.11775606,  0.53107523,\n",
    "        0.87940796, -0.29283406,  0.43100917,  0.47368487,  0.33174111,\n",
    "        0.49969445,  0.42920511,  1.04988202,  1.02528699,  1.01835794,\n",
    "        0.30117962, -0.58006437, -0.2972588 ,  0.36038991,  0.49889757,\n",
    "        0.34700223,  0.2011089 ,  0.22604331, -0.02982527,  0.84414195,\n",
    "        0.29547952,  0.31220025,  0.80044239,  0.18583515,  0.48376206])"
   ]
  },
  {
   "cell_type": "markdown",
   "metadata": {},
   "source": [
    "Funkcja do generowania histogramów dwóch ciągów "
   ]
  },
  {
   "cell_type": "code",
   "execution_count": 138,
   "metadata": {},
   "outputs": [],
   "source": [
    "def histogram(a,b):\n",
    "\n",
    "    fig, axes = plt.subplots(1, 2, figsize=(14, 6))\n",
    "    \n",
    "    x = np.linspace(-1, 2, 1000)\n",
    "    y = norm.pdf(x, 0.5, 0.5)\n",
    "    axes[0].hist(a, bins=np.linspace(-1, 2, 13), density=True, color='skyblue', edgecolor='black')\n",
    "    axes[0].plot(x, y, color='red', label='Funkcja gęstości')\n",
    "    axes[0].set_title(f'Histogram dla próby o długości {len(a)}')\n",
    "    axes[0].set_xlabel('Wartości')\n",
    "    axes[0].set_ylabel('Gęstość')\n",
    "    axes[0].set_xticks(np.arange(-1, 2.25, 0.25))\n",
    "    axes[0].legend()\n",
    "\n",
    "    axes[1].hist(b, bins=np.linspace(-1, 2, 13), alpha = 0.5,density=True, color='orange', edgecolor='black')\n",
    "    axes[1].plot(x, y, color='red', label='Funkcja gęstości')\n",
    "    axes[1].set_title(f'Histogram dla próby o długości {len(b)}')\n",
    "    axes[1].set_xlabel('Wartości')\n",
    "    axes[1].set_ylabel('Gęstość')\n",
    "    axes[1].set_xticks(np.arange(-1, 2.25, 0.25))\n",
    "    axes[0].legend()\n",
    "    \n",
    "    plt.tight_layout()\n",
    "    plt.show()\n"
   ]
  },
  {
   "cell_type": "markdown",
   "metadata": {},
   "source": [
    "Funkcja do obliczania statystyki testowej i wartości p testu t studenta"
   ]
  },
  {
   "cell_type": "code",
   "execution_count": null,
   "metadata": {},
   "outputs": [],
   "source": [
    "def t_value(n,std,mean,h_value):\n",
    "    t = (mean - h_value)/(std/math.sqrt(n))\n",
    "    p = 2 * tp.sf(abs(t), n-1)\n",
    "    return t,p"
   ]
  },
  {
   "cell_type": "markdown",
   "metadata": {},
   "source": [
    "## Statystyka opisowa"
   ]
  },
  {
   "cell_type": "markdown",
   "metadata": {},
   "source": [
    "### Dla ciągów z tej listy"
   ]
  },
  {
   "cell_type": "markdown",
   "metadata": {},
   "source": [
    "Dla ciągu 20 elementowego"
   ]
  },
  {
   "cell_type": "code",
   "execution_count": 133,
   "metadata": {},
   "outputs": [
    {
     "data": {
      "text/plain": [
       "{'mean': np.float64(0.6418278728008924),\n",
       " 'median': np.float64(0.6994564548366295),\n",
       " 'mode': ModeResult(mode=np.float64(-0.33767887516391626), count=np.int64(1)),\n",
       " 'std': np.float64(0.40218972686006366),\n",
       " 'var': np.float64(0.16175657639177263),\n",
       " 'skosnosc': np.float64(-0.26959822001481765),\n",
       " 'kurtoza': np.float64(0.38447758596349946),\n",
       " 'kwartyl_25': np.float64(0.3517447384250362),\n",
       " 'kwartyl_50': np.float64(0.6994564548366295),\n",
       " 'kwartyl_75': np.float64(0.9083837947804159)}"
      ]
     },
     "execution_count": 133,
     "metadata": {},
     "output_type": "execute_result"
    }
   ],
   "source": [
    "statystyki(a)"
   ]
  },
  {
   "cell_type": "markdown",
   "metadata": {},
   "source": [
    "Dla ciągu 100 elementowego"
   ]
  },
  {
   "cell_type": "code",
   "execution_count": 134,
   "metadata": {},
   "outputs": [
    {
     "data": {
      "text/plain": [
       "{'mean': np.float64(0.5166927268121769),\n",
       " 'median': np.float64(0.48918437871882403),\n",
       " 'mode': ModeResult(mode=np.float64(0.32168707257742), count=np.int64(4)),\n",
       " 'std': np.float64(0.4531003527505915),\n",
       " 'var': np.float64(0.2052999296627105),\n",
       " 'skosnosc': np.float64(-0.10208101123690094),\n",
       " 'kurtoza': np.float64(-0.4363870379955803),\n",
       " 'kwartyl_25': np.float64(0.3121377835739471),\n",
       " 'kwartyl_50': np.float64(0.48918437871882403),\n",
       " 'kwartyl_75': np.float64(0.8968703030448588)}"
      ]
     },
     "execution_count": 134,
     "metadata": {},
     "output_type": "execute_result"
    }
   ],
   "source": [
    "statystyki(b)"
   ]
  },
  {
   "cell_type": "markdown",
   "metadata": {},
   "source": [
    "### Dla ciągów z listy 3"
   ]
  },
  {
   "cell_type": "markdown",
   "metadata": {},
   "source": [
    "Ciąg a2"
   ]
  },
  {
   "cell_type": "markdown",
   "metadata": {},
   "source": [
    "{'mean': np.float64(0.37270088767939974),  \n",
    " 'median': np.float64(0.4690012141639791),  \n",
    " 'mode': 'Brak dominanty',  \n",
    " 'std': np.float64(0.4961520896531639),  \n",
    " 'var': np.float64(0.24616689606720119),  \n",
    " 'skosnosc': np.float64(-0.20426291624021103),  \n",
    " 'kurtoza': np.float64(-0.8783732525114418),  \n",
    " 'kwartyl_25': np.float64(-0.05258073034610539),  \n",
    " 'kwartyl_50': np.float64(0.4690012141639791),  \n",
    " 'kwartyl_75': np.float64(0.6586003646733949)}  \n"
   ]
  },
  {
   "cell_type": "markdown",
   "metadata": {},
   "source": [
    "Ciąg b2"
   ]
  },
  {
   "cell_type": "markdown",
   "metadata": {},
   "source": [
    "{'mean': np.float64(0.5027463169660095),  \n",
    " 'median': np.float64(0.48527618421723695),  \n",
    " 'mode': 'Brak dominanty',  \n",
    " 'std': np.float64(0.4741995924215169),  \n",
    " 'var': np.float64(0.22486525345273273),  \n",
    " 'skosnosc': np.float64(0.01840438662320666),  \n",
    " 'kurtoza': np.float64(-0.02266487385247906),  \n",
    " 'kwartyl_25': np.float64(0.178488573478762),  \n",
    " 'kwartyl_50': np.float64(0.48527618421723695),  \n",
    " 'kwartyl_75': np.float64(0.8161124900795171)}  "
   ]
  },
  {
   "cell_type": "markdown",
   "metadata": {},
   "source": [
    "## Histogramy"
   ]
  },
  {
   "cell_type": "markdown",
   "metadata": {},
   "source": [
    "Histogramy dla ciągów z tej listy"
   ]
  },
  {
   "cell_type": "code",
   "execution_count": 139,
   "metadata": {},
   "outputs": [
    {
     "data": {
      "image/png": "[encoded data removed]",
      "text/plain": [
       "<Figure size 1400x600 with 2 Axes>"
      ]
     },
     "metadata": {},
     "output_type": "display_data"
    }
   ],
   "source": [
    "histogram(a,b)"
   ]
  },
  {
   "cell_type": "markdown",
   "metadata": {},
   "source": [
    "Histogramy dla ciąagów z listy 3"
   ]
  },
  {
   "cell_type": "code",
   "execution_count": 141,
   "metadata": {},
   "outputs": [
    {
     "data": {
      "image/png": "[encoded data removed]",
      "text/plain": [
       "<PIL.PngImagePlugin.PngImageFile image mode=RGBA size=1389x590>"
      ]
     },
     "metadata": {},
     "output_type": "display_data"
    }
   ],
   "source": [
    "img = Image.open('HistogramsL3.png')\n",
    "display(img)"
   ]
  },
  {
   "cell_type": "markdown",
   "metadata": {},
   "source": [
    "## Testy statystyczne"
   ]
  },
  {
   "cell_type": "markdown",
   "metadata": {},
   "source": [
    "### Test : Rozkład prób jest zgodny z rozkładem normalnym"
   ]
  },
  {
   "cell_type": "markdown",
   "metadata": {},
   "source": [
    "Poziom ufności : 0.05  \n",
    "H0 : Rozkład prób jest zgodny z rozkładem normalnym  \n",
    "HA : Rozkład prób nie jest zgodny z rozkładem normalnym"
   ]
  },
  {
   "cell_type": "markdown",
   "metadata": {},
   "source": [
    "#### Ciągi z tej listy"
   ]
  },
  {
   "cell_type": "markdown",
   "metadata": {},
   "source": [
    "##### Ciąg 20 elementowy"
   ]
  },
  {
   "cell_type": "markdown",
   "metadata": {},
   "source": [
    "Obliczanie statystyki testowej i wartości p :"
   ]
  },
  {
   "cell_type": "code",
   "execution_count": 146,
   "metadata": {},
   "outputs": [],
   "source": [
    "stat20, p_value20 = shapiro(a)"
   ]
  },
  {
   "cell_type": "code",
   "execution_count": 152,
   "metadata": {},
   "outputs": [
    {
     "name": "stdout",
     "output_type": "stream",
     "text": [
      "Statystyka testowa = 0.9654815199601191, wartość p = 0.6580561328110854\n"
     ]
    }
   ],
   "source": [
    "print(f\"Statystyka testowa = {stat20}, wartość p = {p_value20}\")"
   ]
  },
  {
   "cell_type": "markdown",
   "metadata": {},
   "source": [
    "Wyniki : "
   ]
  },
  {
   "cell_type": "code",
   "execution_count": 150,
   "metadata": {},
   "outputs": [
    {
     "name": "stdout",
     "output_type": "stream",
     "text": [
      "Rozkład próby 20 elementowej jest zgodny z rozkładem normalnym\n"
     ]
    }
   ],
   "source": [
    "if p_value20 < 0.05:\n",
    "    print(\"Rozkład próby 20 elementowej nie jest zgodny z rozkładem normalnym\")\n",
    "else:\n",
    "    print(\"Rozkład próby 20 elementowej jest zgodny z rozkładem normalnym\")"
   ]
  },
  {
   "cell_type": "markdown",
   "metadata": {},
   "source": [
    "##### Ciąg 100 elementowy "
   ]
  },
  {
   "cell_type": "code",
   "execution_count": 148,
   "metadata": {},
   "outputs": [],
   "source": [
    "stat100, p_value100 = shapiro(a)"
   ]
  },
  {
   "cell_type": "code",
   "execution_count": 149,
   "metadata": {},
   "outputs": [
    {
     "name": "stdout",
     "output_type": "stream",
     "text": [
      "Statystyka testowa = 0.9654815199601191, wartość p = 0.6580561328110854\n"
     ]
    }
   ],
   "source": [
    "print(f\"Statystyka testowa = {stat100}, wartość p = {p_value100}\")"
   ]
  },
  {
   "cell_type": "markdown",
   "metadata": {},
   "source": [
    "Wyniki : "
   ]
  },
  {
   "cell_type": "code",
   "execution_count": 151,
   "metadata": {},
   "outputs": [
    {
     "name": "stdout",
     "output_type": "stream",
     "text": [
      "Rozkład próby 100 elementowej jest zgodny z rozkładem normalnym\n"
     ]
    }
   ],
   "source": [
    "if p_value20 < 0.05:\n",
    "    print(\"Rozkład próby 100 elementowej nie jest zgodny z rozkładem normalnym\")\n",
    "else:\n",
    "    print(\"Rozkład próby 100 elementowej jest zgodny z rozkładem normalnym\")"
   ]
  },
  {
   "cell_type": "markdown",
   "metadata": {},
   "source": [
    "#### Ciągi z listy 3"
   ]
  },
  {
   "cell_type": "markdown",
   "metadata": {},
   "source": [
    "##### Ciąg 15 elementowy"
   ]
  },
  {
   "cell_type": "code",
   "execution_count": 156,
   "metadata": {},
   "outputs": [],
   "source": [
    "stat15_2, p_value15_2 = shapiro(a2)"
   ]
  },
  {
   "cell_type": "code",
   "execution_count": 157,
   "metadata": {},
   "outputs": [
    {
     "name": "stdout",
     "output_type": "stream",
     "text": [
      "Statystyka testowa = 0.9125674903142219, wartość p = 0.14825754463816487\n"
     ]
    }
   ],
   "source": [
    "print(f\"Statystyka testowa = {stat15_2}, wartość p = {p_value15_2}\")"
   ]
  },
  {
   "cell_type": "markdown",
   "metadata": {},
   "source": [
    "Wyniki : "
   ]
  },
  {
   "cell_type": "code",
   "execution_count": 158,
   "metadata": {},
   "outputs": [
    {
     "name": "stdout",
     "output_type": "stream",
     "text": [
      "Rozkład próby 15 elementowej z drugiej listy jest zgodny z rozkładem normalnym\n"
     ]
    }
   ],
   "source": [
    "if p_value20 < 0.05:\n",
    "    print(\"Rozkład próby 15 elementowej z drugiej listy nie jest zgodny z rozkładem normalnym\")\n",
    "else:\n",
    "    print(\"Rozkład próby 15 elementowej z drugiej listy jest zgodny z rozkładem normalnym\")"
   ]
  },
  {
   "cell_type": "markdown",
   "metadata": {},
   "source": [
    "Obliczanie statystyki testowej i wartości p :"
   ]
  },
  {
   "cell_type": "markdown",
   "metadata": {},
   "source": [
    "##### Ciąg 120 elementowy"
   ]
  },
  {
   "cell_type": "code",
   "execution_count": 160,
   "metadata": {},
   "outputs": [],
   "source": [
    "stat120_2, p_value120_2 = shapiro(b2)"
   ]
  },
  {
   "cell_type": "code",
   "execution_count": 161,
   "metadata": {},
   "outputs": [
    {
     "name": "stdout",
     "output_type": "stream",
     "text": [
      "Statystyka testowa = 0.985495549650911, wartość p = 0.2275362199915406\n"
     ]
    }
   ],
   "source": [
    "print(f\"Statystyka testowa = {stat120_2}, wartość p = {p_value120_2}\")"
   ]
  },
  {
   "cell_type": "markdown",
   "metadata": {},
   "source": [
    "Wyniki : "
   ]
  },
  {
   "cell_type": "code",
   "execution_count": 162,
   "metadata": {},
   "outputs": [
    {
     "name": "stdout",
     "output_type": "stream",
     "text": [
      "Rozkład próby 120 elementowej z drugiej listy jest zgodny z rozkładem normalnym\n"
     ]
    }
   ],
   "source": [
    "if p_value20 < 0.05:\n",
    "    print(\"Rozkład próby 120 elementowej z drugiej listy nie jest zgodny z rozkładem normalnym\")\n",
    "else:\n",
    "    print(\"Rozkład próby 120 elementowej z drugiej listy jest zgodny z rozkładem normalnym\")"
   ]
  },
  {
   "cell_type": "markdown",
   "metadata": {},
   "source": [
    "### Test : Srednie z prób są równe 0.5"
   ]
  },
  {
   "cell_type": "markdown",
   "metadata": {},
   "source": [
    "Poziom ufności : 0.05  \n",
    "H0 : Rozkład prób jest równy 0.5  \n",
    "HA : Rozkład prób nie jest równy 0.5"
   ]
  },
  {
   "cell_type": "markdown",
   "metadata": {},
   "source": [
    "Zastosuję test studenta, gdyż test shapiro wilka dla poziomu ufności 0.05  \n",
    " nie odrzucił hipotezy, że rozkłady prób są zgodne z normalnym,   \n",
    " jednocześnie pomimo różnej liczności prób, jest spełniony warunek homoskedastyczności,    \n",
    "  ponieważ wartości wariancji niewiele się różnią. "
   ]
  },
  {
   "cell_type": "markdown",
   "metadata": {},
   "source": [
    "#### Ciąg 20 elementowy"
   ]
  },
  {
   "cell_type": "markdown",
   "metadata": {},
   "source": [
    "Obliczanie statystyki testowej : "
   ]
  },
  {
   "cell_type": "code",
   "execution_count": 171,
   "metadata": {},
   "outputs": [],
   "source": [
    "aw = t_value(20,statystyki(a)['std'],statystyki(a)['mean'],0.5)"
   ]
  },
  {
   "cell_type": "code",
   "execution_count": 172,
   "metadata": {},
   "outputs": [
    {
     "name": "stdout",
     "output_type": "stream",
     "text": [
      "Statystyka testowa = 1.5770505485702384, wartość p = 0.13128835994899063\n"
     ]
    }
   ],
   "source": [
    "print(f\"Statystyka testowa = {aw[0]}, wartość p = {aw[1]}\")"
   ]
  },
  {
   "cell_type": "markdown",
   "metadata": {},
   "source": [
    "Wyniki : "
   ]
  },
  {
   "cell_type": "code",
   "execution_count": 173,
   "metadata": {},
   "outputs": [
    {
     "name": "stdout",
     "output_type": "stream",
     "text": [
      "Nie ma podstaw do odrzucenia H0, śrenia z próby 20 elementowej jest równa 0.5\n"
     ]
    }
   ],
   "source": [
    "if aw[1] < 0.05:\n",
    "    print(\"Odrzucenie H0,śrenia z próby 20 elementowej nie jest równa 0.5\")\n",
    "else:\n",
    "    print(\"Nie ma podstaw do odrzucenia H0, śrenia z próby 20 elementowej jest równa 0.5\")"
   ]
  },
  {
   "cell_type": "markdown",
   "metadata": {},
   "source": [
    "#### Ciąg 100 elementowy"
   ]
  },
  {
   "cell_type": "markdown",
   "metadata": {},
   "source": [
    "Obliczanie statystyki testowej :"
   ]
  },
  {
   "cell_type": "code",
   "execution_count": 175,
   "metadata": {},
   "outputs": [],
   "source": [
    "bw = t_value(20,statystyki(b)['std'],statystyki(b)['mean'],0.5)"
   ]
  },
  {
   "cell_type": "code",
   "execution_count": 176,
   "metadata": {},
   "outputs": [
    {
     "name": "stdout",
     "output_type": "stream",
     "text": [
      "Statystyka testowa = 0.1647585205143597, wartość p = 0.8708742876646434\n"
     ]
    }
   ],
   "source": [
    "print(f\"Statystyka testowa = {bw[0]}, wartość p = {bw[1]}\")"
   ]
  },
  {
   "cell_type": "markdown",
   "metadata": {},
   "source": [
    "Wyniki : "
   ]
  },
  {
   "cell_type": "code",
   "execution_count": 177,
   "metadata": {},
   "outputs": [
    {
     "name": "stdout",
     "output_type": "stream",
     "text": [
      "Nie ma podstaw do odrzucenia H0, śrenia z próby 100 elementowej jest równa 0.5\n"
     ]
    }
   ],
   "source": [
    "if aw[1] < 0.05:\n",
    "    print(\"Odrzucenie H0,śrenia z próby 100 elementowej nie jest równa 0.5\")\n",
    "else:\n",
    "    print(\"Nie ma podstaw do odrzucenia H0, śrenia z próby 100 elementowej jest równa 0.5\")"
   ]
  },
  {
   "cell_type": "markdown",
   "metadata": {},
   "source": [
    "### Test : Średnie z prób z dwóch list są równe"
   ]
  },
  {
   "cell_type": "markdown",
   "metadata": {},
   "source": [
    "Poziom ufności : 0.05  \n",
    "H0 : Średnie z prób są równe  \n",
    "HA : Średnie z prób nie są równe"
   ]
  },
  {
   "cell_type": "markdown",
   "metadata": {},
   "source": [
    "Zastosuje test dwóch średnich dla niezależnych prób,   \n",
    "ponieważ z test shapiro wilka, na poziomie ufności 0.05   \n",
    "nie odrzucił hipotezy o zgodności rozkładu prób z rozkładem normalnym.  \n",
    " Jednocześnie wartości wariancji sa podobne pomimo różnej liczności prób. "
   ]
  },
  {
   "cell_type": "markdown",
   "metadata": {},
   "source": [
    "#### Dla ciągów 15 elementowego z listy 3 i 20 elementowego z tej listy"
   ]
  },
  {
   "cell_type": "markdown",
   "metadata": {},
   "source": [
    "Obliczenie statystyki testowej i wartości p :"
   ]
  },
  {
   "cell_type": "code",
   "execution_count": 179,
   "metadata": {},
   "outputs": [],
   "source": [
    "stat_srednie_1, p_srednie_1 = ttest_ind(a,a2)"
   ]
  },
  {
   "cell_type": "code",
   "execution_count": 181,
   "metadata": {},
   "outputs": [
    {
     "name": "stdout",
     "output_type": "stream",
     "text": [
      "Statystyka testowa = 0.7150966394296809, wartość p = 0.4795782970330701\n"
     ]
    }
   ],
   "source": [
    "print(f\"Statystyka testowa = {stat_srednie_1}, wartość p = {p_srednie_1}\")"
   ]
  },
  {
   "cell_type": "markdown",
   "metadata": {},
   "source": [
    "Wyniki : "
   ]
  },
  {
   "cell_type": "code",
   "execution_count": 182,
   "metadata": {},
   "outputs": [
    {
     "name": "stdout",
     "output_type": "stream",
     "text": [
      "Nie ma podstaw do odrzucenia hipotezy zerowej, średnie próby 15 elementowej z listy 3 i 20 elementowej z tej listy są równe\n"
     ]
    }
   ],
   "source": [
    "if p_srednie_1 < 0.05:\n",
    "    print(\"Odrzucamy hipoteze zerową, średnie próby 15 elementowej z listy 3 i 20 elementowej z tej listy nie są równe\")\n",
    "else: \n",
    "    print(\"Nie ma podstaw do odrzucenia hipotezy zerowej, średnie próby 15 elementowej z listy 3 i 20 elementowej z tej listy są równe\")"
   ]
  },
  {
   "cell_type": "markdown",
   "metadata": {},
   "source": [
    "#### Dla ciągów 120 elementowego z listy 3 i 100 elementowego z tej listy"
   ]
  },
  {
   "cell_type": "markdown",
   "metadata": {},
   "source": [
    "Obliczenie statystyki testowej i wartości p : "
   ]
  },
  {
   "cell_type": "code",
   "execution_count": 183,
   "metadata": {},
   "outputs": [],
   "source": [
    "stat_srednie_2, p_srednie_2 = ttest_ind(a,a2)"
   ]
  },
  {
   "cell_type": "code",
   "execution_count": 184,
   "metadata": {},
   "outputs": [
    {
     "name": "stdout",
     "output_type": "stream",
     "text": [
      "Statystyka testowa = 0.7150966394296809, wartość p = 0.4795782970330701\n"
     ]
    }
   ],
   "source": [
    "print(f\"Statystyka testowa = {stat_srednie_2}, wartość p = {p_srednie_2}\")"
   ]
  },
  {
   "cell_type": "markdown",
   "metadata": {},
   "source": [
    "Wyniki : "
   ]
  },
  {
   "cell_type": "code",
   "execution_count": 185,
   "metadata": {},
   "outputs": [
    {
     "name": "stdout",
     "output_type": "stream",
     "text": [
      "Nie ma podstaw do odrzucenia hipotezy zerowej, średnie próby 120 elementowej z listy 3 i 100 elementowej z tej listy są równe\n"
     ]
    }
   ],
   "source": [
    "if p_srednie_2 < 0.05:\n",
    "    print(\"Odrzucamy hipoteze zerową, średnie próby 120 elementowej z listy 3 i 100 elementowej z tej listy nie są równe\")\n",
    "else: \n",
    "    print(\"Nie ma podstaw do odrzucenia hipotezy zerowej, średnie próby 120 elementowej z listy 3 i 100 elementowej z tej listy są równe\")"
   ]
  },
  {
   "cell_type": "markdown",
   "metadata": {},
   "source": [
    "## Wnioski"
   ]
  },
  {
   "cell_type": "markdown",
   "metadata": {},
   "source": [
    "Statystyki opisowe dla ciągów z tej listy oraz ciągów z listy 3 mają podobne wartości.     \n",
    "Histogramy dla ciągów z listy 3 lepiej dopasowują się do funkcji gęstości rozkładu normalnego.     \n",
    "Test shapiro wilka dla wszystkich prób, na poziomie istotności 0.05 nie odrzucił hipotezy,    \n",
    "że rozkład tych prób jest zgodny z rozkładem normalnym. Test t studenta również na poziomie    \n",
    "istotności 0.05 nie odrzucił hipotezy, że średnia prób z tej listy jest równa 0.5.   \n",
    "Test dwóch średnich dla niezależnych prób na poziomie istotności 0.05 nie odrzucił hipotezy,    \n",
    "że średnie z prób 15 elementowej z listy 3 oraz 20 elementowej z tej listy są równe.   \n",
    "Test dwóch średnich dla niezależnych prób na poziomie istotności 0.05 nie odrzucił hipotezy,    \n",
    "że średnie z prób 120 elementowej z listy 3 oraz 100 elementowej z tej listy są równe.   "
   ]
  }
 ],
 "metadata": {
  "kernelspec": {
   "display_name": ".venv",
   "language": "python",
   "name": "python3"
  },
  "language_info": {
   "codemirror_mode": {
    "name": "ipython",
    "version": 3
   },
   "file_extension": ".py",
   "mimetype": "text/x-python",
   "name": "python",
   "nbconvert_exporter": "python",
   "pygments_lexer": "ipython3",
   "version": "3.12.3"
  }
 },
 "nbformat": 4,
 "nbformat_minor": 2
}
