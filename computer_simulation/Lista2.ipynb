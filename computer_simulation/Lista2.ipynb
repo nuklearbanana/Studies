{
 "cells": [
  {
   "cell_type": "markdown",
   "metadata": {},
   "source": [
    "# Lista 2"
   ]
  },
  {
   "cell_type": "markdown",
   "metadata": {},
   "source": [
    "## Kod"
   ]
  },
  {
   "cell_type": "markdown",
   "metadata": {},
   "source": [
    "### Importowanie Bibliotek"
   ]
  },
  {
   "cell_type": "code",
   "execution_count": null,
   "metadata": {},
   "outputs": [],
   "source": [
    "import random\n",
    "import numpy as np\n",
    "from scipy import stats\n",
    "import matplotlib.pyplot as plt\n",
    "import math\n",
    "from scipy.stats import t as tp"
   ]
  },
  {
   "cell_type": "markdown",
   "metadata": {},
   "source": [
    "### Funkcje"
   ]
  },
  {
   "cell_type": "markdown",
   "metadata": {},
   "source": [
    "Funkcja do tworzenia n elementowych ciągów losowych liczb z rozkładu równomiernego"
   ]
  },
  {
   "cell_type": "code",
   "execution_count": 2,
   "metadata": {},
   "outputs": [],
   "source": [
    "def string_generator(n):\n",
    "    result = []\n",
    "    for i in range(n):\n",
    "        result.append(random.uniform(-1,1))\n",
    "    return result\n",
    "    "
   ]
  },
  {
   "cell_type": "markdown",
   "metadata": {},
   "source": [
    "Funkcja do obliczania dominanty"
   ]
  },
  {
   "cell_type": "code",
   "execution_count": 3,
   "metadata": {},
   "outputs": [],
   "source": [
    "def dominanta(data):\n",
    "    values, counts = np.unique(data, return_counts=True)\n",
    "    max_count = np.max(counts)\n",
    "    result = values[counts == max_count]\n",
    "    if len(result) > 1:\n",
    "        return \"Brak dominanty\"\n",
    "    else:\n",
    "        return result[0]"
   ]
  },
  {
   "cell_type": "markdown",
   "metadata": {},
   "source": [
    "Funkcja do wyliczania statystyk"
   ]
  },
  {
   "cell_type": "code",
   "execution_count": 4,
   "metadata": {},
   "outputs": [],
   "source": [
    "def statystyki(data):\n",
    "    mean = data.mean()\n",
    "    median = np.median(data)\n",
    "    mode = dominanta(data)\n",
    "    std = np.std(data)\n",
    "    var = np.var(data)\n",
    "    skew = stats.skew(data)\n",
    "    kurtoza = stats.kurtosis(data,fisher=True)\n",
    "    rozstep = abs(max(data) - min(data))\n",
    "    Q1, Q2, Q3 = np.percentile(data, [25, 50, 75])\n",
    "    \n",
    "\n",
    "    result = {\n",
    "        'mean':mean,\n",
    "        'median':median,\n",
    "        'mode':mode,\n",
    "        'rozstep':rozstep,\n",
    "        'std':std,\n",
    "        'var':var,\n",
    "        'skosnosc':skew,\n",
    "        'kurtoza':kurtoza,\n",
    "        'kwartyl_25': Q1,\n",
    "        'kwartyl_50': Q2,\n",
    "        'kwartyl_75': Q3\n",
    "    }\n",
    "    return result"
   ]
  },
  {
   "cell_type": "markdown",
   "metadata": {},
   "source": [
    "Funkcja do obliczania statystyki testowej t-studenta i wartości p"
   ]
  },
  {
   "cell_type": "code",
   "execution_count": 5,
   "metadata": {},
   "outputs": [],
   "source": [
    "def t_value(n,std,mean,h_value):\n",
    "    t = (mean - h_value)/(std/math.sqrt(n))\n",
    "    p = 2 * tp.sf(abs(t), n-1)\n",
    "    return t,p"
   ]
  },
  {
   "cell_type": "markdown",
   "metadata": {},
   "source": [
    "Funkcja do tworzenia histogramów dla dwóch ciągów wraz z funkcją gęstości rozkładu równomiernego"
   ]
  },
  {
   "cell_type": "code",
   "execution_count": 6,
   "metadata": {},
   "outputs": [],
   "source": [
    "def histogram(a,b):\n",
    "\n",
    "    x_values = np.linspace(-1, 1, 1000)\n",
    "    uniform_density = np.ones_like(x_values) * 0.5  \n",
    "\n",
    "    fig, axes = plt.subplots(1, 2, figsize=(14, 6))\n",
    "\n",
    "    axes[0].hist(a, bins=np.linspace(-1, 1, 9), density=True, color='skyblue', edgecolor='black')\n",
    "    axes[0].plot(x_values, uniform_density, color='red', linestyle='--', label='Rozkład U(-1, 1)')\n",
    "    axes[0].set_title(f'Histogram dla próby o długości {len(a)}')\n",
    "    axes[0].set_xlabel('Wartości')\n",
    "    axes[0].set_ylabel('Gęstość')\n",
    "    axes[0].legend()\n",
    "\n",
    "    axes[1].hist(b, bins=np.linspace(-1, 1, 9), alpha = 0.5,density=True, color='orange', edgecolor='black')\n",
    "    axes[1].plot(x_values, uniform_density, color='red', linestyle='--', label='Rozkład U(-1, 1)')\n",
    "    axes[1].set_title(f'Histogram dla próby o długości {len(b)}')\n",
    "    axes[1].set_xlabel('Wartości')\n",
    "    axes[1].set_ylabel('Gęstość')\n",
    "    axes[1].legend()\n",
    "\n",
    "    plt.tight_layout()\n",
    "    plt.show()\n"
   ]
  },
  {
   "cell_type": "markdown",
   "metadata": {},
   "source": [
    "### Definiowanie ciągów a i b "
   ]
  },
  {
   "cell_type": "code",
   "execution_count": 7,
   "metadata": {},
   "outputs": [],
   "source": [
    "a = np.array(string_generator(15))"
   ]
  },
  {
   "cell_type": "code",
   "execution_count": 8,
   "metadata": {},
   "outputs": [],
   "source": [
    "b = np.array(string_generator(120))"
   ]
  },
  {
   "cell_type": "markdown",
   "metadata": {},
   "source": [
    "Rozkład równomierny : "
   ]
  },
  {
   "cell_type": "code",
   "execution_count": 9,
   "metadata": {},
   "outputs": [],
   "source": [
    "x_values = np.linspace(-1, 1, 100)"
   ]
  },
  {
   "cell_type": "markdown",
   "metadata": {},
   "source": [
    "## Statystyki ciągów"
   ]
  },
  {
   "cell_type": "markdown",
   "metadata": {},
   "source": [
    "### Statystyki ciągu a"
   ]
  },
  {
   "cell_type": "code",
   "execution_count": 10,
   "metadata": {},
   "outputs": [
    {
     "data": {
      "text/plain": [
       "{'mean': np.float64(-0.06340092341992369),\n",
       " 'median': np.float64(-0.03974340146563837),\n",
       " 'mode': 'Brak dominanty',\n",
       " 'rozstep': np.float64(1.654284170832844),\n",
       " 'std': np.float64(0.5490721676183499),\n",
       " 'var': np.float64(0.30148024525311334),\n",
       " 'skosnosc': np.float64(-0.06791129293177803),\n",
       " 'kurtoza': np.float64(-1.3635318979420603),\n",
       " 'kwartyl_25': np.float64(-0.6539642268346793),\n",
       " 'kwartyl_50': np.float64(-0.03974340146563837),\n",
       " 'kwartyl_75': np.float64(0.396362725400099)}"
      ]
     },
     "execution_count": 10,
     "metadata": {},
     "output_type": "execute_result"
    }
   ],
   "source": [
    "statystyki(a)"
   ]
  },
  {
   "cell_type": "markdown",
   "metadata": {},
   "source": [
    "### Statystyki ciągu b"
   ]
  },
  {
   "cell_type": "code",
   "execution_count": 11,
   "metadata": {},
   "outputs": [
    {
     "data": {
      "text/plain": [
       "{'mean': np.float64(-0.006687343244388398),\n",
       " 'median': np.float64(-0.06566349950834083),\n",
       " 'mode': 'Brak dominanty',\n",
       " 'rozstep': np.float64(1.9855197437008485),\n",
       " 'std': np.float64(0.5594695216358302),\n",
       " 'var': np.float64(0.3130061456394247),\n",
       " 'skosnosc': np.float64(0.12728852900790955),\n",
       " 'kurtoza': np.float64(-1.240564061267722),\n",
       " 'kwartyl_25': np.float64(-0.5085365753284435),\n",
       " 'kwartyl_50': np.float64(-0.06566349950834083),\n",
       " 'kwartyl_75': np.float64(0.4962498113927776)}"
      ]
     },
     "execution_count": 11,
     "metadata": {},
     "output_type": "execute_result"
    }
   ],
   "source": [
    "statystyki(b)"
   ]
  },
  {
   "cell_type": "markdown",
   "metadata": {},
   "source": [
    "### Statystyki rozkładu równomiernego"
   ]
  },
  {
   "cell_type": "code",
   "execution_count": 12,
   "metadata": {},
   "outputs": [
    {
     "data": {
      "text/plain": [
       "{'mean': np.float64(8.215650382226158e-17),\n",
       " 'median': np.float64(5.551115123125783e-17),\n",
       " 'mode': 'Brak dominanty',\n",
       " 'rozstep': np.float64(2.0),\n",
       " 'std': np.float64(0.5831529302570125),\n",
       " 'var': np.float64(0.34006734006734013),\n",
       " 'skosnosc': np.float64(-1.8474673971003794e-16),\n",
       " 'kurtoza': np.float64(-1.2002400240024005),\n",
       " 'kwartyl_25': np.float64(-0.5),\n",
       " 'kwartyl_50': np.float64(5.551115123125783e-17),\n",
       " 'kwartyl_75': np.float64(0.5000000000000001)}"
      ]
     },
     "execution_count": 12,
     "metadata": {},
     "output_type": "execute_result"
    }
   ],
   "source": [
    "statystyki(x_values)"
   ]
  },
  {
   "cell_type": "markdown",
   "metadata": {},
   "source": [
    "## Histogramy"
   ]
  },
  {
   "cell_type": "code",
   "execution_count": 13,
   "metadata": {},
   "outputs": [
    {
     "data": {
      "image/png": "[encoded data removed]",
      "text/plain": [
       "<Figure size 1400x600 with 2 Axes>"
      ]
     },
     "metadata": {},
     "output_type": "display_data"
    }
   ],
   "source": [
    "histogram(a,b)"
   ]
  },
  {
   "cell_type": "markdown",
   "metadata": {},
   "source": [
    "## Testy statystyczne"
   ]
  },
  {
   "cell_type": "markdown",
   "metadata": {},
   "source": [
    "Hipoteza zerowa H0 - Średnia z próby jest równa 0  \n",
    "Hipoteza alternatywna HA - Średnia z próby różni się od 0"
   ]
  },
  {
   "cell_type": "markdown",
   "metadata": {},
   "source": [
    "Poziom istotności alfa = 0.05"
   ]
  },
  {
   "cell_type": "markdown",
   "metadata": {},
   "source": [
    "Wynik statystyki testowej (liczba po lewej) rozkładu t-studenta dla ciągu 15 elementowego i wartości p (liczna po prawej)"
   ]
  },
  {
   "cell_type": "code",
   "execution_count": 14,
   "metadata": {},
   "outputs": [
    {
     "data": {
      "text/plain": [
       "(np.float64(-0.4472102849514931), np.float64(0.6615642123145833))"
      ]
     },
     "execution_count": 14,
     "metadata": {},
     "output_type": "execute_result"
    }
   ],
   "source": [
    "aw = t_value(15,statystyki(a)['std'],statystyki(a)['mean'],0)\n",
    "t_value(15,statystyki(a)['std'],statystyki(a)['mean'],0)"
   ]
  },
  {
   "cell_type": "markdown",
   "metadata": {},
   "source": [
    "Wynik statystyki testowej (liczba po lewej) rozkładu t-studenta dla ciągu 120 elementowego i wartości p (liczba po prawej)"
   ]
  },
  {
   "cell_type": "code",
   "execution_count": 15,
   "metadata": {},
   "outputs": [
    {
     "data": {
      "text/plain": [
       "(np.float64(-0.13093863394101038), np.float64(0.8960449550735169))"
      ]
     },
     "execution_count": 15,
     "metadata": {},
     "output_type": "execute_result"
    }
   ],
   "source": [
    "bw = t_value(120,statystyki(b)['std'],statystyki(b)['mean'],0)\n",
    "t_value(120,statystyki(b)['std'],statystyki(b)['mean'],0)"
   ]
  },
  {
   "cell_type": "markdown",
   "metadata": {},
   "source": [
    "## Wnioski"
   ]
  },
  {
   "cell_type": "markdown",
   "metadata": {},
   "source": [
    "### Statystyka opisowa"
   ]
  },
  {
   "cell_type": "markdown",
   "metadata": {},
   "source": [
    "- Średnia \n",
    "\n",
    "    Średnia dla rozkładu równomiernego powinna wynosić 0 w idealnym przypadku.  \n",
    "    Dla stu elementowego rozkładu równomiernego wynosi ona 8,2 * 10^-17 co jest bardzo blisko 0. \n",
    "    W próbie 15 elementowej wartości są bardziej przesunięte w stronę wartości ujemnych niż w próbir 120 elementowej.  \n",
    "    Może to być spowodowane małą liczebnością próby, pomimo tego obydwie te wartości są bliskie 0.\n",
    "\n",
    "- Mediana\n",
    "\n",
    "    Mediana rozkladu równomiernego powinna wynosić 0 w idealnym przypadku.\n",
    "    W próbie 15 elementowej mediana jest bardziej odchylona niż w próbie 120 elementowej,  \n",
    "    tutaj też powodem tego jest mniejsza liczebność próby. Wartości też są blisko 0.  \n",
    "\n",
    "- Moda\n",
    "\n",
    "    Rozkład równomierny nie posiada dominanty, dla prób 15 i 120 elementowych równiez jej nie ma\n",
    "\n",
    "- Rozstęp\n",
    "\n",
    "    Rozstęp dla rozkładu równomiernego powinien wynosić 2, co sprawdza się dla 100 elementowego rozkładu.\n",
    "    Próba 15 i szczególnie 120 elementowa posiadają wartości zbliżone do wartości 2.0\n",
    "\n",
    "- Odchylenie standardowe\n",
    "\n",
    "    STD dla rozkładu równomiernego teoretycznie wynosi około 0.577.    \n",
    "    Można zauważyć, że std dla próby 15 i 120 elementowej znajdują się blisko tej liczby\n",
    "\n",
    "- Wariancja\n",
    "\n",
    "    Wariancja dla rozkładu równomiernego powinna wynosić 0.3333   \n",
    "    Obie próby maja zbliżone wartości do tej liczby \n",
    "\n",
    "- Skośność\n",
    "\n",
    "    Skośność w rozkładzie równomiernym powinna wynosić 0,  \n",
    "    dla obydwu prób można zauważyć wartośći zbliżone do 0\n",
    "\n",
    "- Kurtoza \n",
    "\n",
    "    Powinna wynosić -1.2 dla rozkładu równomiernego, \n",
    "    również widać podobne wartości dla prób 15 i 120 elementowych\n",
    "\n",
    "- Kwartyle\n",
    "\n",
    "    Dla rozkładu równomiernego kwartyle powinny wynosić: Q1 -0.5, Q2 0, Q3 0.5\n",
    "    Dla próby 15 elementowej wynoszą: Q1 −0.5727, Q2 −0.1091, Q3 0.4223\n",
    "    Dla próby 120 elementowej wynoszą: Q1 −0.4758, Q2 0.0076, Q3 0.3921\n",
    "    Wartości nieznacznie się różnią "
   ]
  },
  {
   "cell_type": "markdown",
   "metadata": {},
   "source": [
    "### Testy statystyczne"
   ]
  },
  {
   "cell_type": "code",
   "execution_count": 16,
   "metadata": {},
   "outputs": [
    {
     "name": "stdout",
     "output_type": "stream",
     "text": [
      "Nie ma wystarczających dowodów aby odrzucić H0\n"
     ]
    }
   ],
   "source": [
    "if aw[1] < 0.05:\n",
    "    print(\"Odrzucamy H0 i przyjmujemy alternatywną\")\n",
    "else:\n",
    "    print(\"Nie ma wystarczających dowodów aby odrzucić H0\")"
   ]
  },
  {
   "cell_type": "code",
   "execution_count": 17,
   "metadata": {},
   "outputs": [
    {
     "name": "stdout",
     "output_type": "stream",
     "text": [
      "Nie ma wystarczających dowodów aby odrzucić H0\n"
     ]
    }
   ],
   "source": [
    "if bw[1] < 0.05:\n",
    "    print(\"Odrzucamy H0 i przyjmujemy alternatywną\")\n",
    "else:\n",
    "    print(\"Nie ma wystarczających dowodów aby odrzucić H0\")"
   ]
  },
  {
   "cell_type": "markdown",
   "metadata": {},
   "source": [
    "Test t-Studenta nie odrzuca hipotezy zerowej, czyli nie ma dowodów na odrzucenie hipotezy, że średnia dla prób 15 i 120 elementowych jest równa 0  \n",
    "na przyjętym poziomie istotności alfa = 0.05"
   ]
  },
  {
   "cell_type": "markdown",
   "metadata": {},
   "source": [
    "### Histogramy"
   ]
  },
  {
   "cell_type": "markdown",
   "metadata": {},
   "source": [
    "Można zauważyć, że histogram dla próby 15 elementowej pomimo odchyleń, które są spowodowane małą licznością próby,  \n",
    "w pewnym stopniu dopasowuje się do kształtu funkcji gęstości rozkładu równomiernego.  \n",
    "Jest to bardziej widoczne dla próby 120 elementowej, gdzie odchylenia są mniejsze z powodu większego rozmiaru próby  \n",
    "i histogram jest bardziej dopasowany do kształtu funkcji gęstości rozkładu równomiernego. "
   ]
  },
  {
   "cell_type": "markdown",
   "metadata": {},
   "source": [
    "### Wnioski Końcowe"
   ]
  },
  {
   "cell_type": "markdown",
   "metadata": {},
   "source": [
    "Można zauważyć, że wyniki statystyki opisowej dla dwóch ciągów 15 i 120 elementowych są zbliżone, a czasami nieznacznie różne do   \n",
    "wyników statystyki opisowej dla wygenerowanego rozkładu równomiernego 100 elementowego oraz teoretycznych wartości dla rozkładu równomiernego.   \n",
    "Wyniki testów nie wykluczają mozliwości, że średnia ciągów 15 i 120 elementowych jest różna od 0.  \n",
    "Histogramy prób 15 i 120 elementowych są w pewnym stopniu dopasowane do wykresu funkcji gęstości rozkładu równomiernego.  \n",
    "\n"
   ]
  }
 ],
 "metadata": {
  "kernelspec": {
   "display_name": ".venv",
   "language": "python",
   "name": "python3"
  },
  "language_info": {
   "codemirror_mode": {
    "name": "ipython",
    "version": 3
   },
   "file_extension": ".py",
   "mimetype": "text/x-python",
   "name": "python",
   "nbconvert_exporter": "python",
   "pygments_lexer": "ipython3",
   "version": "3.12.3"
  }
 },
 "nbformat": 4,
 "nbformat_minor": 2
}
